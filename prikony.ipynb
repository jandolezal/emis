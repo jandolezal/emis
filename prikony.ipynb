{
 "cells": [
  {
   "cell_type": "markdown",
   "metadata": {},
   "source": [
    "# Data z webu EMIS\n",
    "\n",
    "Zdroje znečišťování za rok 2019 z webu [EMIS](https://www.chmi.cz/files/portal/docs/uoco/web_generator/plants/index_CZ.html). Údaje o provozovnách a emisích ohlášených v souhrnné provozní evidenci"
   ]
  },
  {
   "cell_type": "markdown",
   "metadata": {},
   "source": [
    "## Zařízení spalující paliva z biomasy s příkonem nejméně 20 resp. 2 MW\n",
    "\n",
    "Kritéria udržitelnosti podle RED 2018/2001 musí nově splňovat zařízení spalující paliva z biomasy pro výrobu elektřiny, vytápění (a chlazení), jejichž celkový jmenovitý tepelný příkon je nejméně 20 MW v případě pevných paliv resp. nejméně 2 MW v případě plynných paliv. \n",
    "\n",
    "Výběr zařízení, která mají údaj o palivu a příslušný příkon (20 MW resp. 2 MW a více) a spadají do kategorie pevná biomasa nebo bioplyn. \n",
    "\n",
    "Spousta údajů je neúplných. Jiné nejsou vhodné pro tento účel, protože provozovna na webu EMIS nutně neznamená jeden zdroj, jak bychom si intuitivně přáli (jednu bioplynku, jednu výtopnu) apod. Viz příklad [Energetiky Kněžice](http://portal.chmi.cz/files/portal/docs/uoco/web_generator/plants/CZ020/211902152_CZ.html \"Energetika Kněžice\"), kde je v jednom zdroji spojená výtopna (s dvěma kotli) a bioplynová stanice, viz [licence](http://licence.eru.cz/detail.php?lic-id=310605027&sequence=1,2&total=2) na webu ERÚ. Jde spíše o jeden areál."
   ]
  },
  {
   "cell_type": "code",
   "execution_count": 1,
   "metadata": {},
   "outputs": [],
   "source": [
    "import matplotlib.pyplot as plt\n",
    "import pandas as pd"
   ]
  },
  {
   "cell_type": "code",
   "execution_count": 2,
   "metadata": {},
   "outputs": [],
   "source": [
    "zdroje = pd.read_csv('data/zdroje.csv', dtype={'adm': 'str'}, low_memory=False, index_col='id')"
   ]
  },
  {
   "cell_type": "code",
   "execution_count": 3,
   "metadata": {},
   "outputs": [
    {
     "data": {
      "text/html": [
       "<div>\n",
       "<style scoped>\n",
       "    .dataframe tbody tr th:only-of-type {\n",
       "        vertical-align: middle;\n",
       "    }\n",
       "\n",
       "    .dataframe tbody tr th {\n",
       "        vertical-align: top;\n",
       "    }\n",
       "\n",
       "    .dataframe thead th {\n",
       "        text-align: right;\n",
       "    }\n",
       "</style>\n",
       "<table border=\"1\" class=\"dataframe\">\n",
       "  <thead>\n",
       "    <tr style=\"text-align: right;\">\n",
       "      <th></th>\n",
       "      <th>nazev</th>\n",
       "      <th>ulice_cp</th>\n",
       "      <th>psc_obec</th>\n",
       "      <th>prikon</th>\n",
       "      <th>paliva</th>\n",
       "    </tr>\n",
       "    <tr>\n",
       "      <th>id</th>\n",
       "      <th></th>\n",
       "      <th></th>\n",
       "      <th></th>\n",
       "      <th></th>\n",
       "      <th></th>\n",
       "    </tr>\n",
       "  </thead>\n",
       "  <tbody>\n",
       "    <tr>\n",
       "      <th>730590013</th>\n",
       "      <td>AAA AUTO International Praha - lakovna</td>\n",
       "      <td>Dopraváků 723/1</td>\n",
       "      <td>184 00 Praha</td>\n",
       "      <td>0.7</td>\n",
       "      <td>zemní plyn</td>\n",
       "    </tr>\n",
       "    <tr>\n",
       "      <th>727870093</th>\n",
       "      <td>ABB PG Novodvorská</td>\n",
       "      <td>Novodvorská 1768/138a</td>\n",
       "      <td>142 00 Praha</td>\n",
       "      <td>3.8</td>\n",
       "      <td>nafta;zemní plyn</td>\n",
       "    </tr>\n",
       "    <tr>\n",
       "      <th>731280711</th>\n",
       "      <td>AF BKK, s.r.o.</td>\n",
       "      <td>Podkovářská 674/2</td>\n",
       "      <td>190 00 Praha</td>\n",
       "      <td>NaN</td>\n",
       "      <td>NaN</td>\n",
       "    </tr>\n",
       "    <tr>\n",
       "      <th>731280551</th>\n",
       "      <td>AGMA, a.s. - slévárna neželezných kovů</td>\n",
       "      <td>Kolbenova 159/5</td>\n",
       "      <td>190 00 Praha</td>\n",
       "      <td>1.4</td>\n",
       "      <td>zemní plyn</td>\n",
       "    </tr>\n",
       "    <tr>\n",
       "      <th>727020251</th>\n",
       "      <td>ALBE PRAHA s.r.o. - chemická čistírna Martinská</td>\n",
       "      <td>Martinská 416/10</td>\n",
       "      <td>110 00 Praha</td>\n",
       "      <td>NaN</td>\n",
       "      <td>NaN</td>\n",
       "    </tr>\n",
       "  </tbody>\n",
       "</table>\n",
       "</div>"
      ],
      "text/plain": [
       "                                                     nazev  \\\n",
       "id                                                           \n",
       "730590013           AAA AUTO International Praha - lakovna   \n",
       "727870093                               ABB PG Novodvorská   \n",
       "731280711                                   AF BKK, s.r.o.   \n",
       "731280551           AGMA, a.s. - slévárna neželezných kovů   \n",
       "727020251  ALBE PRAHA s.r.o. - chemická čistírna Martinská   \n",
       "\n",
       "                        ulice_cp      psc_obec  prikon            paliva  \n",
       "id                                                                        \n",
       "730590013        Dopraváků 723/1  184 00 Praha     0.7        zemní plyn  \n",
       "727870093  Novodvorská 1768/138a  142 00 Praha     3.8  nafta;zemní plyn  \n",
       "731280711      Podkovářská 674/2  190 00 Praha     NaN               NaN  \n",
       "731280551        Kolbenova 159/5  190 00 Praha     1.4        zemní plyn  \n",
       "727020251       Martinská 416/10  110 00 Praha     NaN               NaN  "
      ]
     },
     "execution_count": 3,
     "metadata": {},
     "output_type": "execute_result"
    }
   ],
   "source": [
    "zdroje = zdroje.loc[:, ['nazev', 'ulice_cp', 'psc_obec', 'prikon', 'paliva']] # columns with emissions not needed\n",
    "zdroje.head()"
   ]
  },
  {
   "cell_type": "code",
   "execution_count": 4,
   "metadata": {},
   "outputs": [
    {
     "name": "stdout",
     "output_type": "stream",
     "text": [
      "<class 'pandas.core.frame.DataFrame'>\n",
      "Int64Index: 9454 entries, 730590013 to 635980011\n",
      "Data columns (total 5 columns):\n",
      " #   Column    Non-Null Count  Dtype  \n",
      "---  ------    --------------  -----  \n",
      " 0   nazev     9454 non-null   object \n",
      " 1   ulice_cp  8125 non-null   object \n",
      " 2   psc_obec  9454 non-null   object \n",
      " 3   prikon    4679 non-null   float64\n",
      " 4   paliva    4486 non-null   object \n",
      "dtypes: float64(1), object(4)\n",
      "memory usage: 443.2+ KB\n"
     ]
    }
   ],
   "source": [
    "zdroje.info()"
   ]
  },
  {
   "cell_type": "markdown",
   "metadata": {},
   "source": [
    "### Přehled paliv\n",
    "\n",
    "#### Všechna paliva\n"
   ]
  },
  {
   "cell_type": "code",
   "execution_count": 5,
   "metadata": {},
   "outputs": [
    {
     "data": {
      "text/plain": [
       "{'biomasa odpadní',\n",
       " 'bioplyn',\n",
       " 'bylinná biomasa (sláma, apod.)',\n",
       " 'degazační plyn',\n",
       " 'dřevní biomasa',\n",
       " 'dřevotříska, překližka, dřevovláknitá deska nebo jiné lepené dřevo',\n",
       " 'generátorový plyn, vč. produktů zplyňování rafinérských zbytků, apod.',\n",
       " 'hnědé uhlí prachové',\n",
       " 'hnědé uhlí tříděné',\n",
       " 'jiné kapalné palivo',\n",
       " 'jiné pevné palivo',\n",
       " 'jiné plynné palivo',\n",
       " 'jiné plyny z ocelářského průmyslu (např. konvertorový plyn)',\n",
       " 'jiný druh biomasy',\n",
       " 'kalový plyn',\n",
       " 'kapalná biopaliva',\n",
       " 'koks',\n",
       " 'koksárenský plyn',\n",
       " 'nafta',\n",
       " 'odpad',\n",
       " 'plynové oleje pro topení (obsah síry max. do 0,1 % vč.)',\n",
       " 'propan, butan a jejich směsi',\n",
       " 'proplástek',\n",
       " 'pyrolýzní olej',\n",
       " 'skládkový plyn',\n",
       " 'směsi uhlí',\n",
       " 'topné oleje nízkosirné (obsah síry více než 0,1% a max. do 1 % vč.)',\n",
       " 'topné oleje vysokosirné (obsah síry více než 1 %)',\n",
       " 'vodík',\n",
       " 'vysokopecní plyn',\n",
       " 'výlisky z biomasy',\n",
       " 'výlisky z uhlí',\n",
       " 'zemní plyn',\n",
       " 'černé uhlí prachové',\n",
       " 'černé uhlí tříděné'}"
      ]
     },
     "execution_count": 5,
     "metadata": {},
     "output_type": "execute_result"
    }
   ],
   "source": [
    "paliva = set()\n",
    "for cell in zdroje.paliva.dropna().values:\n",
    "    for palivo in cell.split(';'):\n",
    "        if palivo not in paliva:\n",
    "            paliva.add(palivo)\n",
    "paliva"
   ]
  },
  {
   "cell_type": "code",
   "execution_count": 6,
   "metadata": {},
   "outputs": [
    {
     "data": {
      "text/plain": [
       "35"
      ]
     },
     "execution_count": 6,
     "metadata": {},
     "output_type": "execute_result"
    }
   ],
   "source": [
    "len(paliva)"
   ]
  },
  {
   "cell_type": "markdown",
   "metadata": {},
   "source": [
    "#### Paliva z biomasy\n"
   ]
  },
  {
   "cell_type": "code",
   "execution_count": 7,
   "metadata": {},
   "outputs": [
    {
     "data": {
      "text/plain": [
       "{'biomasa odpadní',\n",
       " 'bioplyn',\n",
       " 'bylinná biomasa (sláma, apod.)',\n",
       " 'dřevní biomasa',\n",
       " 'dřevotříska, překližka, dřevovláknitá deska nebo jiné lepené dřevo',\n",
       " 'jiný druh biomasy',\n",
       " 'kapalná biopaliva',\n",
       " 'výlisky z biomasy'}"
      ]
     },
     "execution_count": 7,
     "metadata": {},
     "output_type": "execute_result"
    }
   ],
   "source": [
    "import re\n",
    "biopaliva = set()\n",
    "p = re.compile(r'(bio)+|(dřev)+|(překližka)')\n",
    "for palivo in paliva:\n",
    "    m = p.search(palivo)\n",
    "    if m:\n",
    "        biopaliva.add(palivo)\n",
    "biopaliva"
   ]
  },
  {
   "cell_type": "markdown",
   "metadata": {},
   "source": [
    "### Bioplynové stanice nad 2 MW příkonu\n",
    "\n",
    "#### Bioplyn v kombinaci s jiným palivem\n",
    "\n",
    "Zahrnuje bioplyn i v kombinaci s jiným palivem (viz nejasná definice provozovny).\n"
   ]
  },
  {
   "cell_type": "code",
   "execution_count": 8,
   "metadata": {},
   "outputs": [
    {
     "name": "stdout",
     "output_type": "stream",
     "text": [
      "Celkem 162 bioplynek (vč. ostatních paliv)\n"
     ]
    }
   ],
   "source": [
    "bioplyn = zdroje[(zdroje.paliva.str.contains('bioplyn', na=False)) & (zdroje.prikon >= 2)]\n",
    "# bioplyn.to_csv('data/bps_2+.csv', decimal=',')\n",
    "print(f'Celkem {bioplyn.shape[0]} bioplynek (vč. ostatních paliv)')"
   ]
  },
  {
   "cell_type": "code",
   "execution_count": 9,
   "metadata": {},
   "outputs": [
    {
     "data": {
      "text/plain": [
       "count    162.000000\n",
       "mean       5.106173\n",
       "std       12.205837\n",
       "min        2.000000\n",
       "25%        2.500000\n",
       "50%        2.800000\n",
       "75%        4.050000\n",
       "max      144.100000\n",
       "Name: prikon, dtype: float64"
      ]
     },
     "execution_count": 9,
     "metadata": {},
     "output_type": "execute_result"
    }
   ],
   "source": [
    "bioplyn.prikon.describe()"
   ]
  },
  {
   "cell_type": "code",
   "execution_count": 10,
   "metadata": {},
   "outputs": [
    {
     "data": {
      "image/png": "[encoded data removed]",
      "text/plain": [
       "<Figure size 432x288 with 1 Axes>"
      ]
     },
     "metadata": {
      "needs_background": "light"
     },
     "output_type": "display_data"
    }
   ],
   "source": [
    "plt.figure()\n",
    "plt.title('Počty bioplynek (příkon nejméně 2 MW')\n",
    "plt.xlabel('Příkon (MW)')\n",
    "plt.ylabel('Počet')\n",
    "bioplyn.prikon.hist();"
   ]
  },
  {
   "cell_type": "markdown",
   "metadata": {},
   "source": [
    "#### Pouze bioplyn\n"
   ]
  },
  {
   "cell_type": "code",
   "execution_count": 11,
   "metadata": {},
   "outputs": [
    {
     "name": "stdout",
     "output_type": "stream",
     "text": [
      "Celkem 110 BPS bez jiného paliva.\n"
     ]
    }
   ],
   "source": [
    "bioplyn_cisty = zdroje[(zdroje.paliva.isin(['bioplyn'])) & (zdroje.prikon >= 2)]\n",
    "# bioplyn.to_csv('data/bps_2+_cisty.csv', decimal=',')\n",
    "print(f'Celkem {len(bioplyn_cisty)} BPS bez jiného paliva.')"
   ]
  },
  {
   "cell_type": "code",
   "execution_count": 12,
   "metadata": {},
   "outputs": [
    {
     "data": {
      "text/plain": [
       "count    110.000000\n",
       "mean       3.119091\n",
       "std        1.022992\n",
       "min        2.000000\n",
       "25%        2.500000\n",
       "50%        2.800000\n",
       "75%        3.375000\n",
       "max        7.100000\n",
       "Name: prikon, dtype: float64"
      ]
     },
     "execution_count": 12,
     "metadata": {},
     "output_type": "execute_result"
    }
   ],
   "source": [
    "bioplyn_cisty['prikon'].describe()"
   ]
  },
  {
   "cell_type": "code",
   "execution_count": 13,
   "metadata": {},
   "outputs": [
    {
     "data": {
      "image/png": "[encoded data removed]",
      "text/plain": [
       "<Figure size 432x288 with 1 Axes>"
      ]
     },
     "metadata": {
      "needs_background": "light"
     },
     "output_type": "display_data"
    }
   ],
   "source": [
    "plt.figure()\n",
    "plt.title('Počty bioplynek (příkon nejméně 2 MW)')\n",
    "plt.xlabel('Příkon (MW)')\n",
    "plt.ylabel('Počet')\n",
    "bioplyn_cisty.prikon.hist();"
   ]
  },
  {
   "cell_type": "markdown",
   "metadata": {},
   "source": [
    "### Biomasa s nejméně 20 MW příkonu\n",
    "\n",
    "#### Biomasa v kombinaci s jiným palivem\n",
    "\n",
    "Zahrnuje čistou biomasu i spoluspalování i část různých zdrojů v jednom areálu (nejednoznačná definice provozovny)."
   ]
  },
  {
   "cell_type": "code",
   "execution_count": 14,
   "metadata": {},
   "outputs": [
    {
     "name": "stdout",
     "output_type": "stream",
     "text": [
      "Celkem 49 zařízení (vč. ostatních paliv)\n"
     ]
    }
   ],
   "source": [
    "biomasa = zdroje[ (zdroje.prikon >= 20) & ((zdroje.paliva.str.contains('dřevo', na=False)) | (zdroje.paliva.str.contains('bio', na=False)))]\n",
    "# biomasa.to_csv('data/biomasa_20+.csv', decimal=',')\n",
    "print(f'Celkem {len(biomasa)} zařízení (vč. ostatních paliv)')"
   ]
  },
  {
   "cell_type": "code",
   "execution_count": 15,
   "metadata": {},
   "outputs": [
    {
     "data": {
      "text/plain": [
       "count      49.000000\n",
       "mean      166.357143\n",
       "std       221.217673\n",
       "min        20.000000\n",
       "25%        32.500000\n",
       "50%        53.500000\n",
       "75%       237.800000\n",
       "max      1146.200000\n",
       "Name: prikon, dtype: float64"
      ]
     },
     "execution_count": 15,
     "metadata": {},
     "output_type": "execute_result"
    }
   ],
   "source": [
    "biomasa.prikon.describe()"
   ]
  },
  {
   "cell_type": "code",
   "execution_count": 16,
   "metadata": {},
   "outputs": [
    {
     "data": {
      "image/png": "[encoded data removed]",
      "text/plain": [
       "<Figure size 432x288 with 1 Axes>"
      ]
     },
     "metadata": {
      "needs_background": "light"
     },
     "output_type": "display_data"
    }
   ],
   "source": [
    "plt.figure()\n",
    "plt.title('Počty zdrojů spalujících pevnou biomasu (příkon nejméně 20 MW)')\n",
    "plt.xlabel('Příkon (MW)')\n",
    "plt.ylabel('Počet')\n",
    "biomasa.prikon.hist();"
   ]
  },
  {
   "cell_type": "markdown",
   "metadata": {},
   "source": [
    "#### Pouze čistá biomasa\n"
   ]
  },
  {
   "cell_type": "code",
   "execution_count": 17,
   "metadata": {},
   "outputs": [
    {
     "name": "stdout",
     "output_type": "stream",
     "text": [
      "Celkem 8 zařízení (čistá biomasa)\n"
     ]
    },
    {
     "data": {
      "text/html": [
       "<div>\n",
       "<style scoped>\n",
       "    .dataframe tbody tr th:only-of-type {\n",
       "        vertical-align: middle;\n",
       "    }\n",
       "\n",
       "    .dataframe tbody tr th {\n",
       "        vertical-align: top;\n",
       "    }\n",
       "\n",
       "    .dataframe thead th {\n",
       "        text-align: right;\n",
       "    }\n",
       "</style>\n",
       "<table border=\"1\" class=\"dataframe\">\n",
       "  <thead>\n",
       "    <tr style=\"text-align: right;\">\n",
       "      <th></th>\n",
       "      <th>nazev</th>\n",
       "      <th>prikon</th>\n",
       "      <th>paliva</th>\n",
       "    </tr>\n",
       "    <tr>\n",
       "      <th>id</th>\n",
       "      <th></th>\n",
       "      <th></th>\n",
       "      <th></th>\n",
       "    </tr>\n",
       "  </thead>\n",
       "  <tbody>\n",
       "    <tr>\n",
       "      <th>716500621</th>\n",
       "      <td>Energetické centrum s.r.o.</td>\n",
       "      <td>32.6</td>\n",
       "      <td>bylinná biomasa (sláma, apod.)</td>\n",
       "    </tr>\n",
       "    <tr>\n",
       "      <th>687130023</th>\n",
       "      <td>Teplárna Loučovice, a.s.</td>\n",
       "      <td>46.5</td>\n",
       "      <td>dřevní biomasa</td>\n",
       "    </tr>\n",
       "    <tr>\n",
       "      <th>755298021</th>\n",
       "      <td>Mayr-Melnhof Holz Paskov s.r.o.</td>\n",
       "      <td>24.0</td>\n",
       "      <td>dřevní biomasa</td>\n",
       "    </tr>\n",
       "    <tr>\n",
       "      <th>721280031</th>\n",
       "      <td>Stora Enso Wood Products Planá, s.r.o.</td>\n",
       "      <td>20.9</td>\n",
       "      <td>dřevní biomasa</td>\n",
       "    </tr>\n",
       "    <tr>\n",
       "      <th>211000542</th>\n",
       "      <td>BIOENERGO - KOMPLEX, s.r.o., Kolín</td>\n",
       "      <td>25.8</td>\n",
       "      <td>bylinná biomasa (sláma, apod.)</td>\n",
       "    </tr>\n",
       "    <tr>\n",
       "      <th>677900013</th>\n",
       "      <td>EC Distribuce a.s.</td>\n",
       "      <td>20.8</td>\n",
       "      <td>bylinná biomasa (sláma, apod.)</td>\n",
       "    </tr>\n",
       "    <tr>\n",
       "      <th>677718061</th>\n",
       "      <td>EC Kutná Hora s.r.o.</td>\n",
       "      <td>25.8</td>\n",
       "      <td>bylinná biomasa (sláma, apod.)</td>\n",
       "    </tr>\n",
       "    <tr>\n",
       "      <th>618340063</th>\n",
       "      <td>LESS &amp; ENERGY s.r.o. - Čáslav</td>\n",
       "      <td>20.2</td>\n",
       "      <td>dřevní biomasa</td>\n",
       "    </tr>\n",
       "  </tbody>\n",
       "</table>\n",
       "</div>"
      ],
      "text/plain": [
       "                                            nazev  prikon  \\\n",
       "id                                                          \n",
       "716500621              Energetické centrum s.r.o.    32.6   \n",
       "687130023                Teplárna Loučovice, a.s.    46.5   \n",
       "755298021         Mayr-Melnhof Holz Paskov s.r.o.    24.0   \n",
       "721280031  Stora Enso Wood Products Planá, s.r.o.    20.9   \n",
       "211000542      BIOENERGO - KOMPLEX, s.r.o., Kolín    25.8   \n",
       "677900013                      EC Distribuce a.s.    20.8   \n",
       "677718061                    EC Kutná Hora s.r.o.    25.8   \n",
       "618340063           LESS & ENERGY s.r.o. - Čáslav    20.2   \n",
       "\n",
       "                                   paliva  \n",
       "id                                         \n",
       "716500621  bylinná biomasa (sláma, apod.)  \n",
       "687130023                  dřevní biomasa  \n",
       "755298021                  dřevní biomasa  \n",
       "721280031                  dřevní biomasa  \n",
       "211000542  bylinná biomasa (sláma, apod.)  \n",
       "677900013  bylinná biomasa (sláma, apod.)  \n",
       "677718061  bylinná biomasa (sláma, apod.)  \n",
       "618340063                  dřevní biomasa  "
      ]
     },
     "execution_count": 17,
     "metadata": {},
     "output_type": "execute_result"
    }
   ],
   "source": [
    "biomasa_cista = zdroje[(zdroje.prikon >= 20) & (zdroje.paliva.str.contains('bio|dřev', regex=True, na=False) == True) & (zdroje.paliva.str.contains('uhlí|zemní|olej|nafta', regex=True, na=False) == False ) ]\n",
    "# biomasa_cista.to_csv('data/biomasa_cista_20+.csv', decimal=',')\n",
    "print(f'Celkem {biomasa_cista.shape[0]} zařízení (čistá biomasa)')\n",
    "biomasa_cista[['nazev','prikon', 'paliva']]"
   ]
  },
  {
   "cell_type": "code",
   "execution_count": 18,
   "metadata": {},
   "outputs": [
    {
     "data": {
      "text/plain": [
       "count     8.000000\n",
       "mean     27.075000\n",
       "std       8.826381\n",
       "min      20.200000\n",
       "25%      20.875000\n",
       "50%      24.900000\n",
       "75%      27.500000\n",
       "max      46.500000\n",
       "Name: prikon, dtype: float64"
      ]
     },
     "execution_count": 18,
     "metadata": {},
     "output_type": "execute_result"
    }
   ],
   "source": [
    "biomasa_cista.prikon.describe()"
   ]
  },
  {
   "cell_type": "code",
   "execution_count": 19,
   "metadata": {},
   "outputs": [
    {
     "data": {
      "image/png": "[encoded data removed]",
      "text/plain": [
       "<Figure size 432x288 with 1 Axes>"
      ]
     },
     "metadata": {
      "needs_background": "light"
     },
     "output_type": "display_data"
    }
   ],
   "source": [
    "plt.figure()\n",
    "plt.title('Počty zdrojů spalujících čistou pevnou biomasu (příkon nejméně 20 MW)')\n",
    "plt.xlabel('Příkon (MW)')\n",
    "plt.ylabel('Počet')\n",
    "biomasa_cista.prikon.hist();"
   ]
  },
  {
   "cell_type": "code",
   "execution_count": null,
   "metadata": {},
   "outputs": [],
   "source": []
  }
 ],
 "metadata": {
  "kernelspec": {
   "display_name": "Python 3 (ipykernel)",
   "language": "python",
   "name": "python3"
  },
  "language_info": {
   "codemirror_mode": {
    "name": "ipython",
    "version": 3
   },
   "file_extension": ".py",
   "mimetype": "text/x-python",
   "name": "python",
   "nbconvert_exporter": "python",
   "pygments_lexer": "ipython3",
   "version": "3.7.3"
  }
 },
 "nbformat": 4,
 "nbformat_minor": 2
}
