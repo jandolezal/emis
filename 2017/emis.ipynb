{
 "cells": [
  {
   "cell_type": "markdown",
   "metadata": {},
   "source": [
    "# Data z webu EMIS\n",
    "\n",
    "**Zdroje znečišťování za rok 2017**\n",
    "\n",
    "Údaje o provozovnách a emisích ohlášených v souhrnné provozní evidenci za aktuální rok na webu [ČHMÚ](http://portal.chmi.cz/files/portal/docs/uoco/web_generator/plants/index_CZ.html).\n",
    "\n",
    "Provozovna na webu EMIS nutně neznamená jeden zdroj, jak bychom si intuitivně přáli (jednu bioplynku, jednu výtopnu) apod. Viz příklad [Energetiky Kněžice](http://portal.chmi.cz/files/portal/docs/uoco/web_generator/plants/CZ020/211902152_CZ.html), kde je v jednom zdroji spojená výtopna na pevnou biomasu (kotel na štěpku a kotel na slámu) a bioplynová stanice, viz licence na webu [ERÚ](http://licence.eru.cz/detail.php?lic-id=310605027&sequence=1,2&total=2). Může jít o kombinaci více zdrojů v jednom areálu.\n",
    "\n",
    "Zajištění dat ve struktuře jako na webu (bez rozdělení do vhodnějších kategorií, např. oddělit psč a obec) ve formátu CSV. \n",
    "\n",
    "Schází doplnit kolonku Paliva pro technologie a Přehled vyjmenovaných zdrojů."
   ]
  },
  {
   "cell_type": "markdown",
   "metadata": {},
   "source": [
    "## Odkazy na zdroje\n",
    "Odkazy na jednotlivé zdroje znečištění. \n",
    "\n",
    "Web je strukturován jako stránka s odkazy na kraje, každá stránka kraje obsahuje odkazy na stránku s okresy. Až na stránce pro příslušný okres jsou odkazy na jednotlivé provozovny (kromě Prahy, kde jsou odkazy na provozovny umístěné na stránce kraje)."
   ]
  },
  {
   "cell_type": "code",
   "execution_count": 1,
   "metadata": {},
   "outputs": [
    {
     "name": "stdout",
     "output_type": "stream",
     "text": [
      "Z webu EMIS vráceno 10063 odkazů na zdroje znečištění\n"
     ]
    }
   ],
   "source": [
    "import unicodedata\n",
    "import requests\n",
    "from bs4 import BeautifulSoup\n",
    "\n",
    "def get_links(url, base):\n",
    "    \"\"\"Return list of all links from a single webpage (table with kraje and okresy \n",
    "    on EMIS website).\n",
    "    \"\"\"\n",
    "    r = requests.get(url)\n",
    "    r.encoding = 'utf-8'\n",
    "    bs = BeautifulSoup(r.text, 'html.parser')\n",
    "    links = bs.find('table', {'class':'data_table'}).find_all('a')\n",
    "    links = [base + link.attrs['href'] for link in links]\n",
    "    return links\n",
    "\n",
    "index = 'http://portal.chmi.cz/files/portal/docs/uoco/web_generator/plants/index_CZ.html'\n",
    "base = 'http://portal.chmi.cz/files/portal/docs/uoco/web_generator/plants/'\n",
    "\n",
    "# Get links to kraje pages\n",
    "kraje_links = get_links(index, base)\n",
    "\n",
    "# Get links to okresy pages (Praha w/o okres level)\n",
    "okresy_links = [kraje_links[0]]\n",
    "for kraj_link in kraje_links[1:]: # Praha w/o okres level\n",
    "    okresy_links.extend(get_links(kraj_link, base))\n",
    "\n",
    "# Get links to individual utilities (provozovny)\n",
    "links = []\n",
    "for okres_link in okresy_links:\n",
    "    links.extend(get_links(okres_link, base))\n",
    "    \n",
    "print(f'Z webu EMIS vráceno {len(links)} odkazů na zdroje znečištění')"
   ]
  },
  {
   "cell_type": "markdown",
   "metadata": {},
   "source": [
    "## Data o zdrojích\n",
    "\n",
    "Data o jednotlivých zdrojích znečištění (provozovnách)."
   ]
  },
  {
   "cell_type": "code",
   "execution_count": 2,
   "metadata": {},
   "outputs": [],
   "source": [
    "def get_data(url):\n",
    "    \"\"\"Return data about a single utility (provozovna) as a dictionary.\n",
    "    \"\"\"\n",
    "    r = requests.get(url)\n",
    "    r.encoding = 'utf-8'\n",
    "    bs = BeautifulSoup(r.text, 'html.parser')\n",
    "    table = bs.find('table', {'class':'data_table'})\n",
    "    \n",
    "    prov = {}\n",
    "    \n",
    "    prov['url'] = url\n",
    "    \n",
    "    # Basic data (same for each utility) are extracted using the basic dictionary\n",
    "    basics = {'nazev': 'Název:',\\\n",
    "              'nace': 'NACE:',\\\n",
    "              'ulice_cp': 'Ulice, č.p./č.o.:',\\\n",
    "              'psc_obec':'PSČ, Obec:',\\\n",
    "              'souradnice': 'Zeměpisné souřadnice:',\\\n",
    "              'adm': 'Adresní místo (ADM):',\\\n",
    "              'prikon': 'Celkový příkon provozovny [MW]: '}\n",
    "    for basic in basics:\n",
    "        if basic == 'adm':\n",
    "            try:\n",
    "                prov[basic] = table.find('td', text=basics[basic]).next_sibling.next_sibling.a.get_text()\n",
    "            except AttributeError:\n",
    "                prov[basic] = 'n/a'\n",
    "        else:\n",
    "            prov[basic] = table.find('td', text=basics[basic]).next_sibling.next_sibling.get_text()\n",
    "    \n",
    "    # Emissions (emise) and fuels (paliva) do not have a specified number of rows\n",
    "    rows = table.find_all('tr')\n",
    "    for i in range(len(rows)):\n",
    "        if rows[i].th:\n",
    "            if rows[i].th.get_text() == 'Emise [t]':\n",
    "                start_emiss = i + 1\n",
    "            if rows[i].th.get_text() == 'Doplňující údaje':\n",
    "                end_emiss = i            \n",
    "            if rows[i].th.get_text() == 'Paliva ze spalovacích procesů':\n",
    "                start_fuels = i + 1\n",
    "            if rows[i].th.get_text() == 'Paliva pro technologie':\n",
    "                end_fuels = i\n",
    "    \n",
    "    # Fuels are only a name without a value\n",
    "    fuels = []\n",
    "    for i in range(start_fuels, end_fuels):\n",
    "        fuels.append(rows[i].td.get_text())\n",
    "    # Fuels will be stored as a string, fuels separated by comma.\n",
    "    prov['paliva'] = ', '.join(fuels)\n",
    "    \n",
    "    # Emissions consist of substance name and value \n",
    "    for i in range(start_emiss, end_emiss):\n",
    "        key = rows[i].td.get_text()\n",
    "        key = unicodedata.normalize('NFKD', key).encode('ascii', 'ignore')\n",
    "        key = key.decode('utf-8')\n",
    "        key = key.replace(' ', '_')\n",
    "        try:\n",
    "            value = rows[i].td.next_sibling.next_sibling.get_text()\n",
    "        except AttributeError:\n",
    "            break\n",
    "        prov[key] = value\n",
    "    return prov"
   ]
  },
  {
   "cell_type": "code",
   "execution_count": 3,
   "metadata": {},
   "outputs": [
    {
     "data": {
      "text/plain": [
       "{'url': 'http://portal.chmi.cz/files/portal/docs/uoco/web_generator/plants/CZ010/727878391_CZ.html',\n",
       " 'nazev': 'ABB s.r.o. - Polovodiče',\n",
       " 'nace': '271200',\n",
       " 'ulice_cp': 'Novodvorská 1768/138a',\n",
       " 'psc_obec': '142 21 Praha',\n",
       " 'souradnice': '50° 1´ 40.854\" sš 14° 25´ 55.702\" vd',\n",
       " 'adm': '25206257',\n",
       " 'prikon': '3,8',\n",
       " 'paliva': 'nafta, zemní plyn',\n",
       " 'tuhe_znecistujici_latky': '0,006',\n",
       " 'oxidy_dusiku': '0,332',\n",
       " 'oxid_uhelnaty': '0,007',\n",
       " 'tekave_organicke_latky_(VOC)': '3,419'}"
      ]
     },
     "execution_count": 3,
     "metadata": {},
     "output_type": "execute_result"
    }
   ],
   "source": [
    "# Test url\n",
    "test_url = 'http://portal.chmi.cz/files/portal/docs/uoco/web_generator/plants/CZ010/727878391_CZ.html'\n",
    "test_data = get_data(test_url)\n",
    "test_data"
   ]
  },
  {
   "cell_type": "code",
   "execution_count": 4,
   "metadata": {},
   "outputs": [
    {
     "name": "stdout",
     "output_type": "stream",
     "text": [
      "Zpracováno 0 odkazů z 10063\n",
      "Zpracováno 1000 odkazů z 10063\n",
      "Zpracováno 2000 odkazů z 10063\n",
      "Zpracováno 3000 odkazů z 10063\n",
      "Zpracováno 4000 odkazů z 10063\n",
      "Zpracováno 5000 odkazů z 10063\n",
      "Zpracováno 6000 odkazů z 10063\n",
      "Zpracováno 7000 odkazů z 10063\n",
      "Zpracováno 8000 odkazů z 10063\n",
      "Zpracováno 9000 odkazů z 10063\n",
      "Zpracováno 10000 odkazů z 10063\n",
      "V databázi je celkem 10063 provozoven (zdrojů znečištění).\n"
     ]
    }
   ],
   "source": [
    "# Extracting data from all urls\n",
    "emis_data = []\n",
    "params = []\n",
    "\n",
    "for link in links:\n",
    "    item = get_data(link)\n",
    "    emis_data.append(item)\n",
    "    params.extend([key for key in item.keys() if key not in params])\n",
    "    if links.index(link) % 1000 == 0:\n",
    "        print(f'Zpracováno {links.index(link)} odkazů z {len(links)}')\n",
    "\n",
    "print(f'V databázi je celkem {len(emis_data)} provozoven (zdrojů znečištění).')"
   ]
  },
  {
   "cell_type": "code",
   "execution_count": 5,
   "metadata": {},
   "outputs": [
    {
     "name": "stdout",
     "output_type": "stream",
     "text": [
      "CSV zapsáno.\n"
     ]
    }
   ],
   "source": [
    "import csv\n",
    "\n",
    "with open('emis_data.csv', mode='w') as csvf:\n",
    "    writer = csv.writer(csvf, delimiter=',')\n",
    "    writer.writerow(params)\n",
    "    for util in emis_data:\n",
    "        row = []\n",
    "        for param in params:\n",
    "            try:\n",
    "                row.append(util[param])\n",
    "            except KeyError:\n",
    "                row.append('n/a')\n",
    "        writer.writerow(row)\n",
    "print('CSV zapsáno.')"
   ]
  }
 ],
 "metadata": {
  "kernelspec": {
   "display_name": "Python 3",
   "language": "python",
   "name": "python3"
  },
  "language_info": {
   "codemirror_mode": {
    "name": "ipython",
    "version": 3
   },
   "file_extension": ".py",
   "mimetype": "text/x-python",
   "name": "python",
   "nbconvert_exporter": "python",
   "pygments_lexer": "ipython3",
   "version": "3.7.0"
  }
 },
 "nbformat": 4,
 "nbformat_minor": 2
}
