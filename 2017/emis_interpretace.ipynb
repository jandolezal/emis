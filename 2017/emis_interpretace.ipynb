{
 "cells": [
  {
   "cell_type": "markdown",
   "metadata": {},
   "source": [
    "# Data z webu EMIS\n",
    "\n",
    "Zdroje znečišťování za rok 2017.\n",
    "Údaje o provozovnách a emisích ohlášených v souhrnné provozní evidenci"
   ]
  },
  {
   "cell_type": "markdown",
   "metadata": {},
   "source": [
    "## Zařízení spalující paliva z biomasy s příkonem nejméně 20 MW\n",
    "\n",
    "Kritéria udržitelnosti musí splňovat zařízení spalující paliva z biomasy pro výrobu elektřiny, vytápění (a chlazení), jejichž celkový jmenovitý tepelný příkon je nejméně 20 MW v případě pevných paliv resp. nejméně 2 MW v případě plynných paliv. \n",
    "\n",
    "Výběr zařízení, která mají údaj o palivu a příslušný příkon (20 MW resp. 2 MW a více) a spadají do kategorie pevná biomasa nebo bioplyn. \n",
    "\n",
    "Údaje nejsou přesné, protože provozovna na webu EMIS nutně neznamená jeden zdroj, jak bychom si intuitivně přáli (jednu bioplynku, jednu výtopnu) apod. Viz příklad [Energetiky Kněžice](http://portal.chmi.cz/files/portal/docs/uoco/web_generator/plants/CZ020/211902152_CZ.html \"Energetika Kněžice\"), kde je v jednom zdroju spojená výtopna (s dvěma kotly) a bioplynová stanice, viz [licence](http://licence.eru.cz/detail.php?lic-id=310605027&sequence=1,2&total=2) na webu ERÚ. Jde spíše o jeden areál."
   ]
  },
  {
   "cell_type": "code",
   "execution_count": 1,
   "metadata": {},
   "outputs": [],
   "source": [
    "import pandas as pd\n",
    "em = pd.read_csv('emis_data.csv', decimal=',', low_memory=False)"
   ]
  },
  {
   "cell_type": "code",
   "execution_count": 2,
   "metadata": {},
   "outputs": [
    {
     "data": {
      "text/html": [
       "<div>\n",
       "<style scoped>\n",
       "    .dataframe tbody tr th:only-of-type {\n",
       "        vertical-align: middle;\n",
       "    }\n",
       "\n",
       "    .dataframe tbody tr th {\n",
       "        vertical-align: top;\n",
       "    }\n",
       "\n",
       "    .dataframe thead th {\n",
       "        text-align: right;\n",
       "    }\n",
       "</style>\n",
       "<table border=\"1\" class=\"dataframe\">\n",
       "  <thead>\n",
       "    <tr style=\"text-align: right;\">\n",
       "      <th></th>\n",
       "      <th>url</th>\n",
       "      <th>nazev</th>\n",
       "      <th>nace</th>\n",
       "      <th>ulice_cp</th>\n",
       "      <th>psc_obec</th>\n",
       "      <th>souradnice</th>\n",
       "      <th>adm</th>\n",
       "      <th>prikon</th>\n",
       "      <th>paliva</th>\n",
       "    </tr>\n",
       "  </thead>\n",
       "  <tbody>\n",
       "    <tr>\n",
       "      <th>0</th>\n",
       "      <td>http://portal.chmi.cz/files/portal/docs/uoco/w...</td>\n",
       "      <td>AAA AUTO International Praha - lakovna</td>\n",
       "      <td>451100</td>\n",
       "      <td>Dopraváků 723/1</td>\n",
       "      <td>184 00 Praha</td>\n",
       "      <td>50° 8´ 13.890\" sš 14° 26´ 53.171\" vd</td>\n",
       "      <td>22341609.0</td>\n",
       "      <td>0.7</td>\n",
       "      <td>zemní plyn (průměrná výhř. 34050 kJ/m3)</td>\n",
       "    </tr>\n",
       "    <tr>\n",
       "      <th>1</th>\n",
       "      <td>http://portal.chmi.cz/files/portal/docs/uoco/w...</td>\n",
       "      <td>ABB s.r.o. - Polovodiče</td>\n",
       "      <td>271200</td>\n",
       "      <td>Novodvorská 1768/138a</td>\n",
       "      <td>142 21 Praha</td>\n",
       "      <td>50° 1´ 40.854\" sš 14° 25´ 55.702\" vd</td>\n",
       "      <td>25206257.0</td>\n",
       "      <td>3.8</td>\n",
       "      <td>nafta, zemní plyn (průměrná výhř. 34050 kJ/m3)</td>\n",
       "    </tr>\n",
       "    <tr>\n",
       "      <th>2</th>\n",
       "      <td>http://portal.chmi.cz/files/portal/docs/uoco/w...</td>\n",
       "      <td>AF BKK, s.r.o.</td>\n",
       "      <td>181200</td>\n",
       "      <td>Podkovářská 674/2</td>\n",
       "      <td>190 00 Praha</td>\n",
       "      <td>50° 6´ 13.123\" sš 14° 30´ 50.482\" vd</td>\n",
       "      <td>22545883.0</td>\n",
       "      <td>NaN</td>\n",
       "      <td>NaN</td>\n",
       "    </tr>\n",
       "    <tr>\n",
       "      <th>3</th>\n",
       "      <td>http://portal.chmi.cz/files/portal/docs/uoco/w...</td>\n",
       "      <td>AGAGA, s.r.o. - hotel Boscolo</td>\n",
       "      <td>551010</td>\n",
       "      <td>Senovážné náměstí 991/13</td>\n",
       "      <td>110 00 Praha</td>\n",
       "      <td>50° 5´ 10.515\" sš 14° 26´ 1.861\" vd</td>\n",
       "      <td>21708053.0</td>\n",
       "      <td>2.2</td>\n",
       "      <td>nafta, zemní plyn (průměrná výhř. 34050 kJ/m3)</td>\n",
       "    </tr>\n",
       "    <tr>\n",
       "      <th>4</th>\n",
       "      <td>http://portal.chmi.cz/files/portal/docs/uoco/w...</td>\n",
       "      <td>AGMA, a.s. - slévárna neželezných kovů</td>\n",
       "      <td>245400</td>\n",
       "      <td>Kolbenova 159/5</td>\n",
       "      <td>190 00 Praha</td>\n",
       "      <td>50° 6´ 39.037\" sš 14° 30´ 28.623\" vd</td>\n",
       "      <td>22541918.0</td>\n",
       "      <td>1.4</td>\n",
       "      <td>zemní plyn (průměrná výhř. 34050 kJ/m3)</td>\n",
       "    </tr>\n",
       "    <tr>\n",
       "      <th>...</th>\n",
       "      <td>...</td>\n",
       "      <td>...</td>\n",
       "      <td>...</td>\n",
       "      <td>...</td>\n",
       "      <td>...</td>\n",
       "      <td>...</td>\n",
       "      <td>...</td>\n",
       "      <td>...</td>\n",
       "      <td>...</td>\n",
       "    </tr>\n",
       "    <tr>\n",
       "      <th>10058</th>\n",
       "      <td>http://portal.chmi.cz/files/portal/docs/uoco/w...</td>\n",
       "      <td>Zlínské cihelny s.r.o. - Závod Malenovice</td>\n",
       "      <td>233200</td>\n",
       "      <td>Šrámkova 1211</td>\n",
       "      <td>763 02 Zlín</td>\n",
       "      <td>49° 12´ 38.386\" sš 17° 36´ 38.845\" vd</td>\n",
       "      <td>26213192.0</td>\n",
       "      <td>NaN</td>\n",
       "      <td>NaN</td>\n",
       "    </tr>\n",
       "    <tr>\n",
       "      <th>10059</th>\n",
       "      <td>http://portal.chmi.cz/files/portal/docs/uoco/w...</td>\n",
       "      <td>ZPS - FRÉZOVACÍ NÁSTROJE a.s.</td>\n",
       "      <td>257300</td>\n",
       "      <td>třída Tomáše Bati 5334</td>\n",
       "      <td>760 01 Zlín</td>\n",
       "      <td>49° 13´ 18.157\" sš 17° 39´ 4.771\" vd</td>\n",
       "      <td>26263572.0</td>\n",
       "      <td>NaN</td>\n",
       "      <td>NaN</td>\n",
       "    </tr>\n",
       "    <tr>\n",
       "      <th>10060</th>\n",
       "      <td>http://portal.chmi.cz/files/portal/docs/uoco/w...</td>\n",
       "      <td>ZPS - GENERÁLNÍ OPRAVY, a.s. - provozovna</td>\n",
       "      <td>331200</td>\n",
       "      <td>Dlouhé díly 335</td>\n",
       "      <td>763 02 Zlín</td>\n",
       "      <td>49° 12´ 39.238\" sš 17° 36´ 57.549\" vd</td>\n",
       "      <td>25026208.0</td>\n",
       "      <td>1.1</td>\n",
       "      <td>zemní plyn (průměrná výhř. 34050 kJ/m3)</td>\n",
       "    </tr>\n",
       "    <tr>\n",
       "      <th>10061</th>\n",
       "      <td>http://portal.chmi.cz/files/portal/docs/uoco/w...</td>\n",
       "      <td>ZPS - MECHANIKA, a.s.</td>\n",
       "      <td>255000</td>\n",
       "      <td>třída 3. května 1180</td>\n",
       "      <td>763 02 Zlín</td>\n",
       "      <td>49° 12´ 22.882\" sš 17° 34´ 21.186\" vd</td>\n",
       "      <td>26205009.0</td>\n",
       "      <td>0.5</td>\n",
       "      <td>zemní plyn (průměrná výhř. 34050 kJ/m3)</td>\n",
       "    </tr>\n",
       "    <tr>\n",
       "      <th>10062</th>\n",
       "      <td>http://portal.chmi.cz/files/portal/docs/uoco/w...</td>\n",
       "      <td>ZPS - SLÉVÁRNA, a.s.</td>\n",
       "      <td>245110</td>\n",
       "      <td>třída 3. května 1172</td>\n",
       "      <td>763 02 Zlín</td>\n",
       "      <td>49° 12´ 30.504\" sš 17° 34´ 12.335\" vd</td>\n",
       "      <td>27325491.0</td>\n",
       "      <td>NaN</td>\n",
       "      <td>NaN</td>\n",
       "    </tr>\n",
       "  </tbody>\n",
       "</table>\n",
       "<p>10063 rows × 9 columns</p>\n",
       "</div>"
      ],
      "text/plain": [
       "                                                     url  \\\n",
       "0      http://portal.chmi.cz/files/portal/docs/uoco/w...   \n",
       "1      http://portal.chmi.cz/files/portal/docs/uoco/w...   \n",
       "2      http://portal.chmi.cz/files/portal/docs/uoco/w...   \n",
       "3      http://portal.chmi.cz/files/portal/docs/uoco/w...   \n",
       "4      http://portal.chmi.cz/files/portal/docs/uoco/w...   \n",
       "...                                                  ...   \n",
       "10058  http://portal.chmi.cz/files/portal/docs/uoco/w...   \n",
       "10059  http://portal.chmi.cz/files/portal/docs/uoco/w...   \n",
       "10060  http://portal.chmi.cz/files/portal/docs/uoco/w...   \n",
       "10061  http://portal.chmi.cz/files/portal/docs/uoco/w...   \n",
       "10062  http://portal.chmi.cz/files/portal/docs/uoco/w...   \n",
       "\n",
       "                                           nazev    nace  \\\n",
       "0         AAA AUTO International Praha - lakovna  451100   \n",
       "1                        ABB s.r.o. - Polovodiče  271200   \n",
       "2                                 AF BKK, s.r.o.  181200   \n",
       "3                  AGAGA, s.r.o. - hotel Boscolo  551010   \n",
       "4         AGMA, a.s. - slévárna neželezných kovů  245400   \n",
       "...                                          ...     ...   \n",
       "10058  Zlínské cihelny s.r.o. - Závod Malenovice  233200   \n",
       "10059              ZPS - FRÉZOVACÍ NÁSTROJE a.s.  257300   \n",
       "10060  ZPS - GENERÁLNÍ OPRAVY, a.s. - provozovna  331200   \n",
       "10061                      ZPS - MECHANIKA, a.s.  255000   \n",
       "10062                       ZPS - SLÉVÁRNA, a.s.  245110   \n",
       "\n",
       "                       ulice_cp      psc_obec  \\\n",
       "0               Dopraváků 723/1  184 00 Praha   \n",
       "1         Novodvorská 1768/138a  142 21 Praha   \n",
       "2             Podkovářská 674/2  190 00 Praha   \n",
       "3      Senovážné náměstí 991/13  110 00 Praha   \n",
       "4               Kolbenova 159/5  190 00 Praha   \n",
       "...                         ...           ...   \n",
       "10058             Šrámkova 1211   763 02 Zlín   \n",
       "10059    třída Tomáše Bati 5334   760 01 Zlín   \n",
       "10060           Dlouhé díly 335   763 02 Zlín   \n",
       "10061      třída 3. května 1180   763 02 Zlín   \n",
       "10062      třída 3. května 1172   763 02 Zlín   \n",
       "\n",
       "                                  souradnice         adm  prikon  \\\n",
       "0       50° 8´ 13.890\" sš 14° 26´ 53.171\" vd  22341609.0     0.7   \n",
       "1       50° 1´ 40.854\" sš 14° 25´ 55.702\" vd  25206257.0     3.8   \n",
       "2       50° 6´ 13.123\" sš 14° 30´ 50.482\" vd  22545883.0     NaN   \n",
       "3        50° 5´ 10.515\" sš 14° 26´ 1.861\" vd  21708053.0     2.2   \n",
       "4       50° 6´ 39.037\" sš 14° 30´ 28.623\" vd  22541918.0     1.4   \n",
       "...                                      ...         ...     ...   \n",
       "10058  49° 12´ 38.386\" sš 17° 36´ 38.845\" vd  26213192.0     NaN   \n",
       "10059   49° 13´ 18.157\" sš 17° 39´ 4.771\" vd  26263572.0     NaN   \n",
       "10060  49° 12´ 39.238\" sš 17° 36´ 57.549\" vd  25026208.0     1.1   \n",
       "10061  49° 12´ 22.882\" sš 17° 34´ 21.186\" vd  26205009.0     0.5   \n",
       "10062  49° 12´ 30.504\" sš 17° 34´ 12.335\" vd  27325491.0     NaN   \n",
       "\n",
       "                                               paliva  \n",
       "0             zemní plyn (průměrná výhř. 34050 kJ/m3)  \n",
       "1      nafta, zemní plyn (průměrná výhř. 34050 kJ/m3)  \n",
       "2                                                 NaN  \n",
       "3      nafta, zemní plyn (průměrná výhř. 34050 kJ/m3)  \n",
       "4             zemní plyn (průměrná výhř. 34050 kJ/m3)  \n",
       "...                                               ...  \n",
       "10058                                             NaN  \n",
       "10059                                             NaN  \n",
       "10060         zemní plyn (průměrná výhř. 34050 kJ/m3)  \n",
       "10061         zemní plyn (průměrná výhř. 34050 kJ/m3)  \n",
       "10062                                             NaN  \n",
       "\n",
       "[10063 rows x 9 columns]"
      ]
     },
     "execution_count": 2,
     "metadata": {},
     "output_type": "execute_result"
    }
   ],
   "source": [
    "em = em.iloc[:, :9] # columns with emissions not needed\n",
    "em"
   ]
  },
  {
   "cell_type": "markdown",
   "metadata": {},
   "source": [
    "### Přehled paliv\n",
    "\n",
    "#### Všechna paliva\n"
   ]
  },
  {
   "cell_type": "code",
   "execution_count": 3,
   "metadata": {},
   "outputs": [
    {
     "data": {
      "text/plain": [
       "{'biomasa odpadní',\n",
       " 'bioplyn',\n",
       " 'butan a jejich směsi',\n",
       " 'bylinná biomasa (sláma',\n",
       " 'degazační plyn',\n",
       " 'dřevní biomasa',\n",
       " 'dřevotříska',\n",
       " 'dřevovláknitá deska nebo jiné lepené dřevo',\n",
       " 'generátorový plyn',\n",
       " 'hnědé uhlí prachové',\n",
       " 'hnědé uhlí tříděné',\n",
       " 'jiné kapalné palivo',\n",
       " 'jiné pevné palivo',\n",
       " 'jiné plynné palivo',\n",
       " 'jiné plyny z ocelářského průmyslu (např. konvertorový plyn)',\n",
       " 'jiný druh biomasy',\n",
       " 'kalový plyn',\n",
       " 'kapalná biopaliva',\n",
       " 'koks',\n",
       " 'koksárenský plyn',\n",
       " 'nafta',\n",
       " 'odpad',\n",
       " 'plynové oleje pro topení (obsah síry max. do 0,1 % vč.)',\n",
       " 'propan',\n",
       " 'proplástek',\n",
       " 'pyrolýzní olej',\n",
       " 'překližka',\n",
       " 'skládkový plyn',\n",
       " 'směsi uhlí',\n",
       " 'topné oleje nízkosirné (obsah síry více než 0,1% a max. do 1 % vč.)',\n",
       " 'topné oleje vysokosirné (obsah síry více než 1 %)',\n",
       " 'vodík',\n",
       " 'vysokopecní plyn',\n",
       " 'výlisky z biomasy',\n",
       " 'výlisky z uhlí',\n",
       " 'vč. produktů zplyňování rafinérských zbytků',\n",
       " 'zemní plyn (průměrná výhř. 34050 kJ/m3)',\n",
       " 'zkapalněný zemní plyn',\n",
       " 'černé uhlí prachové',\n",
       " 'černé uhlí tříděné'}"
      ]
     },
     "execution_count": 3,
     "metadata": {},
     "output_type": "execute_result"
    }
   ],
   "source": [
    "paliva = set()\n",
    "for cell in em.paliva.dropna().values:\n",
    "    for palivo in cell.split(', '):\n",
    "        if palivo not in paliva:\n",
    "            paliva.add(palivo)\n",
    "\n",
    "paliva.discard('apod.')\n",
    "paliva.discard('apod.)')\n",
    "paliva"
   ]
  },
  {
   "cell_type": "code",
   "execution_count": 4,
   "metadata": {},
   "outputs": [
    {
     "data": {
      "text/plain": [
       "40"
      ]
     },
     "execution_count": 4,
     "metadata": {},
     "output_type": "execute_result"
    }
   ],
   "source": [
    "len(paliva)"
   ]
  },
  {
   "cell_type": "markdown",
   "metadata": {},
   "source": [
    "#### Paliva z biomasy\n"
   ]
  },
  {
   "cell_type": "code",
   "execution_count": 5,
   "metadata": {},
   "outputs": [
    {
     "data": {
      "text/plain": [
       "{'biomasa odpadní',\n",
       " 'bioplyn',\n",
       " 'bylinná biomasa (sláma',\n",
       " 'dřevní biomasa',\n",
       " 'dřevotříska',\n",
       " 'dřevovláknitá deska nebo jiné lepené dřevo',\n",
       " 'jiný druh biomasy',\n",
       " 'kapalná biopaliva',\n",
       " 'výlisky z biomasy'}"
      ]
     },
     "execution_count": 5,
     "metadata": {},
     "output_type": "execute_result"
    }
   ],
   "source": [
    "import re\n",
    "biopaliva = set()\n",
    "p = re.compile(r'(bio)+|(dřev)+')\n",
    "for palivo in paliva:\n",
    "    m = p.search(palivo)\n",
    "    if m:\n",
    "        biopaliva.add(palivo)\n",
    "biopaliva"
   ]
  },
  {
   "cell_type": "markdown",
   "metadata": {},
   "source": [
    "### Bioplynové stanice nad 2 MW příkonu\n",
    "\n",
    "#### Bioplyn v kombinaci s jiným palivem\n",
    "\n",
    "Zahrnuje bioplyn i v kombinaci s jiným palivem (viz nejasná definice provozovny).\n"
   ]
  },
  {
   "cell_type": "code",
   "execution_count": 6,
   "metadata": {},
   "outputs": [
    {
     "name": "stdout",
     "output_type": "stream",
     "text": [
      "Celkem 168 bioplynek (vč. ostatních paliv)\n"
     ]
    }
   ],
   "source": [
    "bioplyn = em[(em.paliva.str.contains('bioplyn', na=False)) & (em.prikon >= 2)]\n",
    "# bioplyn.to_csv('bps_2+.csv', decimal=',')\n",
    "print(f'Celkem {bioplyn.shape[0]} bioplynek (vč. ostatních paliv)')"
   ]
  },
  {
   "cell_type": "code",
   "execution_count": 7,
   "metadata": {},
   "outputs": [
    {
     "data": {
      "text/plain": [
       "count    168.000000\n",
       "mean       4.903571\n",
       "std       11.524542\n",
       "min        2.000000\n",
       "25%        2.475000\n",
       "50%        2.800000\n",
       "75%        3.900000\n",
       "max      141.000000\n",
       "Name: prikon, dtype: float64"
      ]
     },
     "execution_count": 7,
     "metadata": {},
     "output_type": "execute_result"
    }
   ],
   "source": [
    "bioplyn.prikon.describe()"
   ]
  },
  {
   "cell_type": "code",
   "execution_count": 8,
   "metadata": {},
   "outputs": [
    {
     "data": {
      "text/plain": [
       "<matplotlib.axes._subplots.AxesSubplot at 0x12183ae80>"
      ]
     },
     "execution_count": 8,
     "metadata": {},
     "output_type": "execute_result"
    },
    {
     "data": {
      "image/png": "[encoded data removed]",
      "text/plain": [
       "<Figure size 432x288 with 1 Axes>"
      ]
     },
     "metadata": {
      "needs_background": "light"
     },
     "output_type": "display_data"
    }
   ],
   "source": [
    "import matplotlib.pyplot as plt\n",
    "plt.figure()\n",
    "plt.title('Počty bioplynek (příkon nejméně 2 MW')\n",
    "plt.xlabel('Příkon (MW)')\n",
    "bioplyn.prikon.hist()"
   ]
  },
  {
   "cell_type": "markdown",
   "metadata": {},
   "source": [
    "#### Pouze bioplyn\n"
   ]
  },
  {
   "cell_type": "code",
   "execution_count": 9,
   "metadata": {},
   "outputs": [
    {
     "name": "stdout",
     "output_type": "stream",
     "text": [
      "Celkem 113 BPS bez jiného paliva.\n"
     ]
    }
   ],
   "source": [
    "bioplyn_cisty = em[(em.paliva.isin(['bioplyn'])) & (em.prikon >= 2)]\n",
    "# bioplyn.to_csv('bps_2+_cisty.csv', decimal=',')\n",
    "print(f'Celkem {len(bioplyn_cisty)} BPS bez jiného paliva.')"
   ]
  },
  {
   "cell_type": "code",
   "execution_count": 10,
   "metadata": {},
   "outputs": [
    {
     "data": {
      "text/plain": [
       "<matplotlib.axes._subplots.AxesSubplot at 0x10f810fd0>"
      ]
     },
     "execution_count": 10,
     "metadata": {},
     "output_type": "execute_result"
    },
    {
     "data": {
      "image/png": "[encoded data removed]",
      "text/plain": [
       "<Figure size 432x288 with 1 Axes>"
      ]
     },
     "metadata": {
      "needs_background": "light"
     },
     "output_type": "display_data"
    }
   ],
   "source": [
    "plt.figure()\n",
    "plt.title('Počty bioplynek (příkon nejméně 2 MW)')\n",
    "plt.xlabel('Příkon (MW)')\n",
    "bioplyn_cisty.prikon.hist()"
   ]
  },
  {
   "cell_type": "markdown",
   "metadata": {},
   "source": [
    "### Biomasa s nejméně 20 MW příkonu\n",
    "\n",
    "#### Biomasa v kombinaci s jiným palivem\n",
    "\n",
    "Zahrnuje čistou biomasu i spoluspalování i část různých zdrojů v jednom areálu (nejednoznačná definice provozovny)."
   ]
  },
  {
   "cell_type": "code",
   "execution_count": 11,
   "metadata": {},
   "outputs": [
    {
     "name": "stdout",
     "output_type": "stream",
     "text": [
      "Celkem 48 zařízení (vč. ostatních paliv)\n"
     ]
    }
   ],
   "source": [
    "biomasa = em[ (em.prikon >= 20) & ((em.paliva.str.contains('dřevo', na=False)) | (em.paliva.str.contains('bio', na=False)))]\n",
    "# biomasa.to_csv('biomasa_20+.csv', decimal=',')\n",
    "print(f'Celkem {len(biomasa)} zařízení (vč. ostatních paliv)')"
   ]
  },
  {
   "cell_type": "code",
   "execution_count": 12,
   "metadata": {},
   "outputs": [
    {
     "data": {
      "text/plain": [
       "count     48.000000\n",
       "mean     147.064583\n",
       "std      170.437453\n",
       "min       20.000000\n",
       "25%       31.325000\n",
       "50%       51.350000\n",
       "75%      227.375000\n",
       "max      645.900000\n",
       "Name: prikon, dtype: float64"
      ]
     },
     "execution_count": 12,
     "metadata": {},
     "output_type": "execute_result"
    }
   ],
   "source": [
    "biomasa.prikon.describe()"
   ]
  },
  {
   "cell_type": "code",
   "execution_count": 13,
   "metadata": {},
   "outputs": [
    {
     "data": {
      "text/plain": [
       "<matplotlib.axes._subplots.AxesSubplot at 0x1218fbcc0>"
      ]
     },
     "execution_count": 13,
     "metadata": {},
     "output_type": "execute_result"
    },
    {
     "data": {
      "image/png": "[encoded data removed]",
      "text/plain": [
       "<Figure size 432x288 with 1 Axes>"
      ]
     },
     "metadata": {
      "needs_background": "light"
     },
     "output_type": "display_data"
    }
   ],
   "source": [
    "plt.figure()\n",
    "plt.title('Počty zdrojů spalujících pevnou biomasu (příkon nejméně 20 MW)')\n",
    "plt.xlabel('Příkon (MW)')\n",
    "biomasa.prikon.hist()"
   ]
  },
  {
   "cell_type": "markdown",
   "metadata": {},
   "source": [
    "#### Pouze čistá biomasa\n"
   ]
  },
  {
   "cell_type": "code",
   "execution_count": 14,
   "metadata": {},
   "outputs": [
    {
     "name": "stdout",
     "output_type": "stream",
     "text": [
      "Celkem 6 zařízení (čistá biomasa)\n"
     ]
    },
    {
     "data": {
      "text/html": [
       "<div>\n",
       "<style scoped>\n",
       "    .dataframe tbody tr th:only-of-type {\n",
       "        vertical-align: middle;\n",
       "    }\n",
       "\n",
       "    .dataframe tbody tr th {\n",
       "        vertical-align: top;\n",
       "    }\n",
       "\n",
       "    .dataframe thead th {\n",
       "        text-align: right;\n",
       "    }\n",
       "</style>\n",
       "<table border=\"1\" class=\"dataframe\">\n",
       "  <thead>\n",
       "    <tr style=\"text-align: right;\">\n",
       "      <th></th>\n",
       "      <th>nazev</th>\n",
       "      <th>prikon</th>\n",
       "      <th>paliva</th>\n",
       "    </tr>\n",
       "  </thead>\n",
       "  <tbody>\n",
       "    <tr>\n",
       "      <th>1403</th>\n",
       "      <td>Teplárna Loučovice, a.s.</td>\n",
       "      <td>46.5</td>\n",
       "      <td>dřevní biomasa</td>\n",
       "    </tr>\n",
       "    <tr>\n",
       "      <th>3994</th>\n",
       "      <td>Mayr-Melnhof Holz Paskov s.r.o.</td>\n",
       "      <td>24.0</td>\n",
       "      <td>dřevní biomasa</td>\n",
       "    </tr>\n",
       "    <tr>\n",
       "      <th>6725</th>\n",
       "      <td>Stora Enso Wood Products Planá, s.r.o.</td>\n",
       "      <td>20.9</td>\n",
       "      <td>dřevní biomasa</td>\n",
       "    </tr>\n",
       "    <tr>\n",
       "      <th>7078</th>\n",
       "      <td>BIOENERGO - KOMPLEX, s.r.o., Kolín</td>\n",
       "      <td>25.8</td>\n",
       "      <td>bylinná biomasa (sláma, apod.)</td>\n",
       "    </tr>\n",
       "    <tr>\n",
       "      <th>7204</th>\n",
       "      <td>EC Kutná Hora s.r.o.</td>\n",
       "      <td>46.6</td>\n",
       "      <td>bylinná biomasa (sláma, apod.), výlisky z biomasy</td>\n",
       "    </tr>\n",
       "    <tr>\n",
       "      <th>7233</th>\n",
       "      <td>LESS &amp; ENERGY s.r.o. - Čáslav</td>\n",
       "      <td>20.2</td>\n",
       "      <td>dřevní biomasa</td>\n",
       "    </tr>\n",
       "  </tbody>\n",
       "</table>\n",
       "</div>"
      ],
      "text/plain": [
       "                                       nazev  prikon  \\\n",
       "1403                Teplárna Loučovice, a.s.    46.5   \n",
       "3994         Mayr-Melnhof Holz Paskov s.r.o.    24.0   \n",
       "6725  Stora Enso Wood Products Planá, s.r.o.    20.9   \n",
       "7078      BIOENERGO - KOMPLEX, s.r.o., Kolín    25.8   \n",
       "7204                    EC Kutná Hora s.r.o.    46.6   \n",
       "7233           LESS & ENERGY s.r.o. - Čáslav    20.2   \n",
       "\n",
       "                                                 paliva  \n",
       "1403                                     dřevní biomasa  \n",
       "3994                                     dřevní biomasa  \n",
       "6725                                     dřevní biomasa  \n",
       "7078                     bylinná biomasa (sláma, apod.)  \n",
       "7204  bylinná biomasa (sláma, apod.), výlisky z biomasy  \n",
       "7233                                     dřevní biomasa  "
      ]
     },
     "execution_count": 14,
     "metadata": {},
     "output_type": "execute_result"
    }
   ],
   "source": [
    "biomasa_cista = em[(em.prikon >= 20) & (em.paliva.str.contains('bio|dřev', regex=True, na=False) == True) & (em.paliva.str.contains('uhlí|zemní|olej|nafta', regex=True, na=False) == False ) ]\n",
    "print(f'Celkem {biomasa_cista.shape[0]} zařízení (čistá biomasa)')\n",
    "biomasa_cista[['nazev','prikon', 'paliva']]"
   ]
  },
  {
   "cell_type": "code",
   "execution_count": 15,
   "metadata": {},
   "outputs": [
    {
     "data": {
      "text/plain": [
       "count     6.000000\n",
       "mean     30.666667\n",
       "std      12.471033\n",
       "min      20.200000\n",
       "25%      21.675000\n",
       "50%      24.900000\n",
       "75%      41.325000\n",
       "max      46.600000\n",
       "Name: prikon, dtype: float64"
      ]
     },
     "execution_count": 15,
     "metadata": {},
     "output_type": "execute_result"
    }
   ],
   "source": [
    "biomasa_cista.prikon.describe()"
   ]
  },
  {
   "cell_type": "code",
   "execution_count": 16,
   "metadata": {},
   "outputs": [
    {
     "data": {
      "text/plain": [
       "<matplotlib.axes._subplots.AxesSubplot at 0x1219695f8>"
      ]
     },
     "execution_count": 16,
     "metadata": {},
     "output_type": "execute_result"
    },
    {
     "data": {
      "image/png": "[encoded data removed]",
      "text/plain": [
       "<Figure size 432x288 with 1 Axes>"
      ]
     },
     "metadata": {
      "needs_background": "light"
     },
     "output_type": "display_data"
    }
   ],
   "source": [
    "plt.figure()\n",
    "plt.title('Počty zdrojů spalujících čistou pevnou biomasu (příkon nejméně 20 MW)')\n",
    "plt.xlabel('Příkon (MW)')\n",
    "biomasa_cista.prikon.hist()"
   ]
  }
 ],
 "metadata": {
  "kernelspec": {
   "display_name": "Python 3",
   "language": "python",
   "name": "python3"
  },
  "language_info": {
   "codemirror_mode": {
    "name": "ipython",
    "version": 3
   },
   "file_extension": ".py",
   "mimetype": "text/x-python",
   "name": "python",
   "nbconvert_exporter": "python",
   "pygments_lexer": "ipython3",
   "version": "3.7.0"
  }
 },
 "nbformat": 4,
 "nbformat_minor": 2
}
