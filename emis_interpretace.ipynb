{
 "cells": [
  {
   "cell_type": "markdown",
   "metadata": {},
   "source": [
    "# Data z webu EMIS\n",
    "\n",
    "Zdroje znečišťování za rok 2018.\n",
    "Údaje o provozovnách a emisích ohlášených v souhrnné provozní evidenci"
   ]
  },
  {
   "cell_type": "markdown",
   "metadata": {},
   "source": [
    "## Zařízení spalující paliva z biomasy s příkonem nejméně 20 resp. 2 MW\n",
    "\n",
    "Kritéria udržitelnosti musí splňovat zařízení spalující paliva z biomasy pro výrobu elektřiny, vytápění (a chlazení), jejichž celkový jmenovitý tepelný příkon je nejméně 20 MW v případě pevných paliv resp. nejméně 2 MW v případě plynných paliv. \n",
    "\n",
    "Výběr zařízení, která mají údaj o palivu a příslušný příkon (20 MW resp. 2 MW a více) a spadají do kategorie pevná biomasa nebo bioplyn. \n",
    "\n",
    "Údaje nejsou přesné, protože provozovna na webu EMIS nutně neznamená jeden zdroj, jak bychom si intuitivně přáli (jednu bioplynku, jednu výtopnu) apod. Viz příklad [Energetiky Kněžice](http://portal.chmi.cz/files/portal/docs/uoco/web_generator/plants/CZ020/211902152_CZ.html \"Energetika Kněžice\"), kde je v jednom zdroju spojená výtopna (s dvěma kotly) a bioplynová stanice, viz [licence](http://licence.eru.cz/detail.php?lic-id=310605027&sequence=1,2&total=2) na webu ERÚ. Jde spíše o jeden areál."
   ]
  },
  {
   "cell_type": "code",
   "execution_count": 1,
   "metadata": {},
   "outputs": [],
   "source": [
    "import pandas as pd\n",
    "em = pd.read_csv('emis_data.csv', decimal=',', dtype={'adm': 'str'}, low_memory=False)"
   ]
  },
  {
   "cell_type": "code",
   "execution_count": 2,
   "metadata": {},
   "outputs": [
    {
     "data": {
      "text/html": [
       "<div>\n",
       "<style scoped>\n",
       "    .dataframe tbody tr th:only-of-type {\n",
       "        vertical-align: middle;\n",
       "    }\n",
       "\n",
       "    .dataframe tbody tr th {\n",
       "        vertical-align: top;\n",
       "    }\n",
       "\n",
       "    .dataframe thead th {\n",
       "        text-align: right;\n",
       "    }\n",
       "</style>\n",
       "<table border=\"1\" class=\"dataframe\">\n",
       "  <thead>\n",
       "    <tr style=\"text-align: right;\">\n",
       "      <th></th>\n",
       "      <th>url</th>\n",
       "      <th>nazev</th>\n",
       "      <th>nace</th>\n",
       "      <th>ulice_cp</th>\n",
       "      <th>psc_obec</th>\n",
       "      <th>souradnice</th>\n",
       "      <th>adm</th>\n",
       "      <th>prikon</th>\n",
       "      <th>paliva</th>\n",
       "    </tr>\n",
       "  </thead>\n",
       "  <tbody>\n",
       "    <tr>\n",
       "      <th>0</th>\n",
       "      <td>http://portal.chmi.cz/files/portal/docs/uoco/w...</td>\n",
       "      <td>AAA AUTO International Praha - lakovna</td>\n",
       "      <td>451100</td>\n",
       "      <td>Dopraváků 723/1</td>\n",
       "      <td>184 00 Praha</td>\n",
       "      <td>50° 8´ 13.890\" sš 14° 26´ 53.171\" vd</td>\n",
       "      <td>22341609</td>\n",
       "      <td>0.7</td>\n",
       "      <td>zemní plyn (průměrná výhř. 34050 kJ/m3)</td>\n",
       "    </tr>\n",
       "    <tr>\n",
       "      <th>1</th>\n",
       "      <td>http://portal.chmi.cz/files/portal/docs/uoco/w...</td>\n",
       "      <td>ABB s.r.o. - Polovodiče</td>\n",
       "      <td>271200</td>\n",
       "      <td>Novodvorská 1768/138a</td>\n",
       "      <td>142 00 Praha</td>\n",
       "      <td>50° 1´ 40.854\" sš 14° 25´ 55.702\" vd</td>\n",
       "      <td>25206257</td>\n",
       "      <td>3.8</td>\n",
       "      <td>nafta, zemní plyn (průměrná výhř. 34050 kJ/m3)</td>\n",
       "    </tr>\n",
       "    <tr>\n",
       "      <th>2</th>\n",
       "      <td>http://portal.chmi.cz/files/portal/docs/uoco/w...</td>\n",
       "      <td>AF BKK, s.r.o.</td>\n",
       "      <td>181200</td>\n",
       "      <td>Podkovářská 674/2</td>\n",
       "      <td>190 00 Praha</td>\n",
       "      <td>50° 6´ 13.123\" sš 14° 30´ 50.482\" vd</td>\n",
       "      <td>22545883</td>\n",
       "      <td>NaN</td>\n",
       "      <td>NaN</td>\n",
       "    </tr>\n",
       "    <tr>\n",
       "      <th>3</th>\n",
       "      <td>http://portal.chmi.cz/files/portal/docs/uoco/w...</td>\n",
       "      <td>AGMA, a.s. - slévárna neželezných kovů</td>\n",
       "      <td>245400</td>\n",
       "      <td>Kolbenova 159/5</td>\n",
       "      <td>190 00 Praha</td>\n",
       "      <td>50° 6´ 39.037\" sš 14° 30´ 28.623\" vd</td>\n",
       "      <td>22541918</td>\n",
       "      <td>1.4</td>\n",
       "      <td>zemní plyn (průměrná výhř. 34050 kJ/m3)</td>\n",
       "    </tr>\n",
       "    <tr>\n",
       "      <th>4</th>\n",
       "      <td>http://portal.chmi.cz/files/portal/docs/uoco/w...</td>\n",
       "      <td>AKONTEXT, společnost s ručením omezeným</td>\n",
       "      <td>181200</td>\n",
       "      <td>Jiřího ze Vtelna 1731/11</td>\n",
       "      <td>193 00 Praha</td>\n",
       "      <td>50° 6´ 59.060\" sš 14° 36´ 29.458\" vd</td>\n",
       "      <td>22446656</td>\n",
       "      <td>NaN</td>\n",
       "      <td>NaN</td>\n",
       "    </tr>\n",
       "    <tr>\n",
       "      <th>...</th>\n",
       "      <td>...</td>\n",
       "      <td>...</td>\n",
       "      <td>...</td>\n",
       "      <td>...</td>\n",
       "      <td>...</td>\n",
       "      <td>...</td>\n",
       "      <td>...</td>\n",
       "      <td>...</td>\n",
       "      <td>...</td>\n",
       "    </tr>\n",
       "    <tr>\n",
       "      <th>9684</th>\n",
       "      <td>http://portal.chmi.cz/files/portal/docs/uoco/w...</td>\n",
       "      <td>ZPS - FRÉZOVACÍ NÁSTROJE a.s.</td>\n",
       "      <td>257300</td>\n",
       "      <td>třída Tomáše Bati 5334</td>\n",
       "      <td>760 01 Zlín</td>\n",
       "      <td>49° 13´ 18.157\" sš 17° 39´ 4.771\" vd</td>\n",
       "      <td>26263572</td>\n",
       "      <td>NaN</td>\n",
       "      <td>NaN</td>\n",
       "    </tr>\n",
       "    <tr>\n",
       "      <th>9685</th>\n",
       "      <td>http://portal.chmi.cz/files/portal/docs/uoco/w...</td>\n",
       "      <td>ZPS - GENERÁLNÍ OPRAVY, a.s. - provozovna</td>\n",
       "      <td>331200</td>\n",
       "      <td>Dlouhé díly 335</td>\n",
       "      <td>763 02 Zlín</td>\n",
       "      <td>49° 12´ 39.238\" sš 17° 36´ 57.549\" vd</td>\n",
       "      <td>25026208</td>\n",
       "      <td>1.1</td>\n",
       "      <td>zemní plyn (průměrná výhř. 34050 kJ/m3)</td>\n",
       "    </tr>\n",
       "    <tr>\n",
       "      <th>9686</th>\n",
       "      <td>http://portal.chmi.cz/files/portal/docs/uoco/w...</td>\n",
       "      <td>ZPS - MECHANIKA, a. s.</td>\n",
       "      <td>255000</td>\n",
       "      <td>306</td>\n",
       "      <td>763 24 Vlachovice</td>\n",
       "      <td>49° 7´ 25.139\" sš 17° 56´ 46.428\" vd</td>\n",
       "      <td>4033779</td>\n",
       "      <td>NaN</td>\n",
       "      <td>NaN</td>\n",
       "    </tr>\n",
       "    <tr>\n",
       "      <th>9687</th>\n",
       "      <td>http://portal.chmi.cz/files/portal/docs/uoco/w...</td>\n",
       "      <td>ZPS - MECHANIKA, a.s.</td>\n",
       "      <td>255000</td>\n",
       "      <td>třída 3. května 1180</td>\n",
       "      <td>763 02 Zlín</td>\n",
       "      <td>49° 12´ 22.882\" sš 17° 34´ 21.186\" vd</td>\n",
       "      <td>26205009</td>\n",
       "      <td>0.5</td>\n",
       "      <td>zemní plyn (průměrná výhř. 34050 kJ/m3)</td>\n",
       "    </tr>\n",
       "    <tr>\n",
       "      <th>9688</th>\n",
       "      <td>http://portal.chmi.cz/files/portal/docs/uoco/w...</td>\n",
       "      <td>ZPS - SLÉVÁRNA, a.s.</td>\n",
       "      <td>245110</td>\n",
       "      <td>třída 3. května 1172</td>\n",
       "      <td>763 02 Zlín</td>\n",
       "      <td>49° 12´ 30.504\" sš 17° 34´ 12.335\" vd</td>\n",
       "      <td>27325491</td>\n",
       "      <td>NaN</td>\n",
       "      <td>NaN</td>\n",
       "    </tr>\n",
       "  </tbody>\n",
       "</table>\n",
       "<p>9689 rows × 9 columns</p>\n",
       "</div>"
      ],
      "text/plain": [
       "                                                    url  \\\n",
       "0     http://portal.chmi.cz/files/portal/docs/uoco/w...   \n",
       "1     http://portal.chmi.cz/files/portal/docs/uoco/w...   \n",
       "2     http://portal.chmi.cz/files/portal/docs/uoco/w...   \n",
       "3     http://portal.chmi.cz/files/portal/docs/uoco/w...   \n",
       "4     http://portal.chmi.cz/files/portal/docs/uoco/w...   \n",
       "...                                                 ...   \n",
       "9684  http://portal.chmi.cz/files/portal/docs/uoco/w...   \n",
       "9685  http://portal.chmi.cz/files/portal/docs/uoco/w...   \n",
       "9686  http://portal.chmi.cz/files/portal/docs/uoco/w...   \n",
       "9687  http://portal.chmi.cz/files/portal/docs/uoco/w...   \n",
       "9688  http://portal.chmi.cz/files/portal/docs/uoco/w...   \n",
       "\n",
       "                                          nazev    nace  \\\n",
       "0        AAA AUTO International Praha - lakovna  451100   \n",
       "1                       ABB s.r.o. - Polovodiče  271200   \n",
       "2                                AF BKK, s.r.o.  181200   \n",
       "3        AGMA, a.s. - slévárna neželezných kovů  245400   \n",
       "4       AKONTEXT, společnost s ručením omezeným  181200   \n",
       "...                                         ...     ...   \n",
       "9684              ZPS - FRÉZOVACÍ NÁSTROJE a.s.  257300   \n",
       "9685  ZPS - GENERÁLNÍ OPRAVY, a.s. - provozovna  331200   \n",
       "9686                     ZPS - MECHANIKA, a. s.  255000   \n",
       "9687                      ZPS - MECHANIKA, a.s.  255000   \n",
       "9688                       ZPS - SLÉVÁRNA, a.s.  245110   \n",
       "\n",
       "                      ulice_cp           psc_obec  \\\n",
       "0              Dopraváků 723/1       184 00 Praha   \n",
       "1        Novodvorská 1768/138a       142 00 Praha   \n",
       "2            Podkovářská 674/2       190 00 Praha   \n",
       "3              Kolbenova 159/5       190 00 Praha   \n",
       "4     Jiřího ze Vtelna 1731/11       193 00 Praha   \n",
       "...                        ...                ...   \n",
       "9684    třída Tomáše Bati 5334        760 01 Zlín   \n",
       "9685           Dlouhé díly 335        763 02 Zlín   \n",
       "9686                       306  763 24 Vlachovice   \n",
       "9687      třída 3. května 1180        763 02 Zlín   \n",
       "9688      třída 3. května 1172        763 02 Zlín   \n",
       "\n",
       "                                 souradnice       adm  prikon  \\\n",
       "0      50° 8´ 13.890\" sš 14° 26´ 53.171\" vd  22341609     0.7   \n",
       "1      50° 1´ 40.854\" sš 14° 25´ 55.702\" vd  25206257     3.8   \n",
       "2      50° 6´ 13.123\" sš 14° 30´ 50.482\" vd  22545883     NaN   \n",
       "3      50° 6´ 39.037\" sš 14° 30´ 28.623\" vd  22541918     1.4   \n",
       "4      50° 6´ 59.060\" sš 14° 36´ 29.458\" vd  22446656     NaN   \n",
       "...                                     ...       ...     ...   \n",
       "9684   49° 13´ 18.157\" sš 17° 39´ 4.771\" vd  26263572     NaN   \n",
       "9685  49° 12´ 39.238\" sš 17° 36´ 57.549\" vd  25026208     1.1   \n",
       "9686   49° 7´ 25.139\" sš 17° 56´ 46.428\" vd   4033779     NaN   \n",
       "9687  49° 12´ 22.882\" sš 17° 34´ 21.186\" vd  26205009     0.5   \n",
       "9688  49° 12´ 30.504\" sš 17° 34´ 12.335\" vd  27325491     NaN   \n",
       "\n",
       "                                              paliva  \n",
       "0            zemní plyn (průměrná výhř. 34050 kJ/m3)  \n",
       "1     nafta, zemní plyn (průměrná výhř. 34050 kJ/m3)  \n",
       "2                                                NaN  \n",
       "3            zemní plyn (průměrná výhř. 34050 kJ/m3)  \n",
       "4                                                NaN  \n",
       "...                                              ...  \n",
       "9684                                             NaN  \n",
       "9685         zemní plyn (průměrná výhř. 34050 kJ/m3)  \n",
       "9686                                             NaN  \n",
       "9687         zemní plyn (průměrná výhř. 34050 kJ/m3)  \n",
       "9688                                             NaN  \n",
       "\n",
       "[9689 rows x 9 columns]"
      ]
     },
     "execution_count": 2,
     "metadata": {},
     "output_type": "execute_result"
    }
   ],
   "source": [
    "em = em.iloc[:, :9] # columns with emissions not needed\n",
    "em"
   ]
  },
  {
   "cell_type": "markdown",
   "metadata": {},
   "source": [
    "### Přehled paliv\n",
    "\n",
    "#### Všechna paliva\n"
   ]
  },
  {
   "cell_type": "code",
   "execution_count": 3,
   "metadata": {},
   "outputs": [
    {
     "data": {
      "text/plain": [
       "{'biomasa odpadní',\n",
       " 'bioplyn',\n",
       " 'butan a jejich směsi',\n",
       " 'bylinná biomasa (sláma',\n",
       " 'degazační plyn',\n",
       " 'dřevní biomasa',\n",
       " 'dřevotříska',\n",
       " 'dřevovláknitá deska nebo jiné lepené dřevo',\n",
       " 'generátorový plyn',\n",
       " 'hnědé uhlí prachové',\n",
       " 'hnědé uhlí tříděné',\n",
       " 'jiné kapalné palivo',\n",
       " 'jiné pevné palivo',\n",
       " 'jiné plynné palivo',\n",
       " 'jiné plyny z ocelářského průmyslu (např. konvertorový plyn)',\n",
       " 'jiný druh biomasy',\n",
       " 'kalový plyn',\n",
       " 'kapalná biopaliva',\n",
       " 'koks',\n",
       " 'koksárenský plyn',\n",
       " 'nafta',\n",
       " 'odpad',\n",
       " 'plynové oleje pro topení (obsah síry max. do 0,1 % vč.)',\n",
       " 'propan',\n",
       " 'proplástek',\n",
       " 'pyrolýzní olej',\n",
       " 'překližka',\n",
       " 'skládkový plyn',\n",
       " 'směsi uhlí',\n",
       " 'topné oleje nízkosirné (obsah síry více než 0,1% a max. do 1 % vč.)',\n",
       " 'topné oleje vysokosirné (obsah síry více než 1 %)',\n",
       " 'vodík',\n",
       " 'vysokopecní plyn',\n",
       " 'výlisky z biomasy',\n",
       " 'výlisky z uhlí',\n",
       " 'vč. produktů zplyňování rafinérských zbytků',\n",
       " 'zemní plyn (průměrná výhř. 34050 kJ/m3)',\n",
       " 'zkapalněný zemní plyn',\n",
       " 'černé uhlí prachové',\n",
       " 'černé uhlí tříděné'}"
      ]
     },
     "execution_count": 3,
     "metadata": {},
     "output_type": "execute_result"
    }
   ],
   "source": [
    "paliva = set()\n",
    "for cell in em.paliva.dropna().values:\n",
    "    for palivo in cell.split(', '):\n",
    "        if palivo not in paliva:\n",
    "            paliva.add(palivo)\n",
    "\n",
    "paliva.discard('apod.')\n",
    "paliva.discard('apod.)')\n",
    "paliva"
   ]
  },
  {
   "cell_type": "code",
   "execution_count": 4,
   "metadata": {},
   "outputs": [
    {
     "data": {
      "text/plain": [
       "40"
      ]
     },
     "execution_count": 4,
     "metadata": {},
     "output_type": "execute_result"
    }
   ],
   "source": [
    "len(paliva)"
   ]
  },
  {
   "cell_type": "markdown",
   "metadata": {},
   "source": [
    "#### Paliva z biomasy\n"
   ]
  },
  {
   "cell_type": "code",
   "execution_count": 5,
   "metadata": {},
   "outputs": [
    {
     "data": {
      "text/plain": [
       "{'biomasa odpadní',\n",
       " 'bioplyn',\n",
       " 'bylinná biomasa (sláma',\n",
       " 'dřevní biomasa',\n",
       " 'dřevotříska',\n",
       " 'dřevovláknitá deska nebo jiné lepené dřevo',\n",
       " 'jiný druh biomasy',\n",
       " 'kapalná biopaliva',\n",
       " 'výlisky z biomasy'}"
      ]
     },
     "execution_count": 5,
     "metadata": {},
     "output_type": "execute_result"
    }
   ],
   "source": [
    "import re\n",
    "biopaliva = set()\n",
    "p = re.compile(r'(bio)+|(dřev)+')\n",
    "for palivo in paliva:\n",
    "    m = p.search(palivo)\n",
    "    if m:\n",
    "        biopaliva.add(palivo)\n",
    "biopaliva"
   ]
  },
  {
   "cell_type": "markdown",
   "metadata": {},
   "source": [
    "### Bioplynové stanice nad 2 MW příkonu\n",
    "\n",
    "#### Bioplyn v kombinaci s jiným palivem\n",
    "\n",
    "Zahrnuje bioplyn i v kombinaci s jiným palivem (viz nejasná definice provozovny).\n"
   ]
  },
  {
   "cell_type": "code",
   "execution_count": 6,
   "metadata": {},
   "outputs": [
    {
     "name": "stdout",
     "output_type": "stream",
     "text": [
      "Celkem 168 bioplynek (vč. ostatních paliv)\n"
     ]
    }
   ],
   "source": [
    "bioplyn = em[(em.paliva.str.contains('bioplyn', na=False)) & (em.prikon >= 2)]\n",
    "# bioplyn.to_csv('bps_2+.csv', decimal=',')\n",
    "print(f'Celkem {bioplyn.shape[0]} bioplynek (vč. ostatních paliv)')"
   ]
  },
  {
   "cell_type": "code",
   "execution_count": 7,
   "metadata": {},
   "outputs": [
    {
     "data": {
      "text/plain": [
       "count    168.000000\n",
       "mean       5.014286\n",
       "std       12.011443\n",
       "min        2.000000\n",
       "25%        2.400000\n",
       "50%        2.800000\n",
       "75%        3.900000\n",
       "max      141.000000\n",
       "Name: prikon, dtype: float64"
      ]
     },
     "execution_count": 7,
     "metadata": {},
     "output_type": "execute_result"
    }
   ],
   "source": [
    "bioplyn.prikon.describe()"
   ]
  },
  {
   "cell_type": "code",
   "execution_count": 8,
   "metadata": {},
   "outputs": [
    {
     "data": {
      "text/plain": [
       "<AxesSubplot:title={'center':'Počty bioplynek (příkon nejméně 2 MW'}, xlabel='Příkon (MW)', ylabel='Počet'>"
      ]
     },
     "execution_count": 8,
     "metadata": {},
     "output_type": "execute_result"
    },
    {
     "data": {
      "image/png": "[encoded data removed]",
      "text/plain": [
       "<Figure size 432x288 with 1 Axes>"
      ]
     },
     "metadata": {
      "needs_background": "light"
     },
     "output_type": "display_data"
    }
   ],
   "source": [
    "import matplotlib.pyplot as plt\n",
    "plt.figure()\n",
    "plt.title('Počty bioplynek (příkon nejméně 2 MW')\n",
    "plt.xlabel('Příkon (MW)')\n",
    "plt.ylabel('Počet')\n",
    "bioplyn.prikon.hist()"
   ]
  },
  {
   "cell_type": "markdown",
   "metadata": {},
   "source": [
    "#### Pouze bioplyn\n"
   ]
  },
  {
   "cell_type": "code",
   "execution_count": 9,
   "metadata": {},
   "outputs": [
    {
     "name": "stdout",
     "output_type": "stream",
     "text": [
      "Celkem 121 BPS bez jiného paliva.\n"
     ]
    }
   ],
   "source": [
    "bioplyn_cisty = em[(em.paliva.isin(['bioplyn'])) & (em.prikon >= 2)]\n",
    "# bioplyn.to_csv('bps_2+_cisty.csv', decimal=',')\n",
    "print(f'Celkem {len(bioplyn_cisty)} BPS bez jiného paliva.')"
   ]
  },
  {
   "cell_type": "code",
   "execution_count": 10,
   "metadata": {},
   "outputs": [
    {
     "data": {
      "text/plain": [
       "count    121.000000\n",
       "mean       3.108264\n",
       "std        0.949613\n",
       "min        2.000000\n",
       "25%        2.500000\n",
       "50%        2.800000\n",
       "75%        3.500000\n",
       "max        6.600000\n",
       "Name: prikon, dtype: float64"
      ]
     },
     "execution_count": 10,
     "metadata": {},
     "output_type": "execute_result"
    }
   ],
   "source": [
    "bioplyn_cisty['prikon'].describe()"
   ]
  },
  {
   "cell_type": "code",
   "execution_count": 11,
   "metadata": {},
   "outputs": [
    {
     "data": {
      "text/plain": [
       "<AxesSubplot:title={'center':'Počty bioplynek (příkon nejméně 2 MW)'}, xlabel='Příkon (MW)', ylabel='Počet'>"
      ]
     },
     "execution_count": 11,
     "metadata": {},
     "output_type": "execute_result"
    },
    {
     "data": {
      "image/png": "[encoded data removed]",
      "text/plain": [
       "<Figure size 432x288 with 1 Axes>"
      ]
     },
     "metadata": {
      "needs_background": "light"
     },
     "output_type": "display_data"
    }
   ],
   "source": [
    "plt.figure()\n",
    "plt.title('Počty bioplynek (příkon nejméně 2 MW)')\n",
    "plt.xlabel('Příkon (MW)')\n",
    "plt.ylabel('Počet')\n",
    "bioplyn_cisty.prikon.hist()"
   ]
  },
  {
   "cell_type": "markdown",
   "metadata": {},
   "source": [
    "### Biomasa s nejméně 20 MW příkonu\n",
    "\n",
    "#### Biomasa v kombinaci s jiným palivem\n",
    "\n",
    "Zahrnuje čistou biomasu i spoluspalování i část různých zdrojů v jednom areálu (nejednoznačná definice provozovny)."
   ]
  },
  {
   "cell_type": "code",
   "execution_count": 12,
   "metadata": {},
   "outputs": [
    {
     "name": "stdout",
     "output_type": "stream",
     "text": [
      "Celkem 44 zařízení (vč. ostatních paliv)\n"
     ]
    }
   ],
   "source": [
    "biomasa = em[ (em.prikon >= 20) & ((em.paliva.str.contains('dřevo', na=False)) | (em.paliva.str.contains('bio', na=False)))]\n",
    "# biomasa.to_csv('biomasa_20+.csv', decimal=',')\n",
    "print(f'Celkem {len(biomasa)} zařízení (vč. ostatních paliv)')"
   ]
  },
  {
   "cell_type": "code",
   "execution_count": 13,
   "metadata": {},
   "outputs": [
    {
     "data": {
      "text/plain": [
       "count     44.000000\n",
       "mean     161.115909\n",
       "std      184.422047\n",
       "min       20.000000\n",
       "25%       36.975000\n",
       "50%       58.050000\n",
       "75%      251.300000\n",
       "max      645.900000\n",
       "Name: prikon, dtype: float64"
      ]
     },
     "execution_count": 13,
     "metadata": {},
     "output_type": "execute_result"
    }
   ],
   "source": [
    "biomasa.prikon.describe()"
   ]
  },
  {
   "cell_type": "code",
   "execution_count": 14,
   "metadata": {},
   "outputs": [
    {
     "data": {
      "text/plain": [
       "<AxesSubplot:title={'center':'Počty zdrojů spalujících pevnou biomasu (příkon nejméně 20 MW)'}, xlabel='Příkon (MW)', ylabel='Počet'>"
      ]
     },
     "execution_count": 14,
     "metadata": {},
     "output_type": "execute_result"
    },
    {
     "data": {
      "image/png": "[encoded data removed]",
      "text/plain": [
       "<Figure size 432x288 with 1 Axes>"
      ]
     },
     "metadata": {
      "needs_background": "light"
     },
     "output_type": "display_data"
    }
   ],
   "source": [
    "plt.figure()\n",
    "plt.title('Počty zdrojů spalujících pevnou biomasu (příkon nejméně 20 MW)')\n",
    "plt.xlabel('Příkon (MW)')\n",
    "plt.ylabel('Počet')\n",
    "biomasa.prikon.hist()"
   ]
  },
  {
   "cell_type": "markdown",
   "metadata": {},
   "source": [
    "#### Pouze čistá biomasa\n"
   ]
  },
  {
   "cell_type": "code",
   "execution_count": 15,
   "metadata": {},
   "outputs": [
    {
     "name": "stdout",
     "output_type": "stream",
     "text": [
      "Celkem 7 zařízení (čistá biomasa)\n"
     ]
    },
    {
     "data": {
      "text/html": [
       "<div>\n",
       "<style scoped>\n",
       "    .dataframe tbody tr th:only-of-type {\n",
       "        vertical-align: middle;\n",
       "    }\n",
       "\n",
       "    .dataframe tbody tr th {\n",
       "        vertical-align: top;\n",
       "    }\n",
       "\n",
       "    .dataframe thead th {\n",
       "        text-align: right;\n",
       "    }\n",
       "</style>\n",
       "<table border=\"1\" class=\"dataframe\">\n",
       "  <thead>\n",
       "    <tr style=\"text-align: right;\">\n",
       "      <th></th>\n",
       "      <th>nazev</th>\n",
       "      <th>prikon</th>\n",
       "      <th>paliva</th>\n",
       "    </tr>\n",
       "  </thead>\n",
       "  <tbody>\n",
       "    <tr>\n",
       "      <th>569</th>\n",
       "      <td>Energetické centrum s.r.o.</td>\n",
       "      <td>31.8</td>\n",
       "      <td>bylinná biomasa (sláma, apod.)</td>\n",
       "    </tr>\n",
       "    <tr>\n",
       "      <th>1273</th>\n",
       "      <td>Teplárna Loučovice, a.s.</td>\n",
       "      <td>46.5</td>\n",
       "      <td>dřevní biomasa</td>\n",
       "    </tr>\n",
       "    <tr>\n",
       "      <th>3818</th>\n",
       "      <td>Mayr-Melnhof Holz Paskov s.r.o.</td>\n",
       "      <td>24.0</td>\n",
       "      <td>dřevní biomasa</td>\n",
       "    </tr>\n",
       "    <tr>\n",
       "      <th>6462</th>\n",
       "      <td>Stora Enso Wood Products Planá, s.r.o.</td>\n",
       "      <td>20.9</td>\n",
       "      <td>dřevní biomasa</td>\n",
       "    </tr>\n",
       "    <tr>\n",
       "      <th>6805</th>\n",
       "      <td>BIOENERGO - KOMPLEX, s.r.o., Kolín</td>\n",
       "      <td>25.8</td>\n",
       "      <td>bylinná biomasa (sláma, apod.)</td>\n",
       "    </tr>\n",
       "    <tr>\n",
       "      <th>6923</th>\n",
       "      <td>EC Kutná Hora s.r.o.</td>\n",
       "      <td>72.4</td>\n",
       "      <td>bylinná biomasa (sláma, apod.)</td>\n",
       "    </tr>\n",
       "    <tr>\n",
       "      <th>6950</th>\n",
       "      <td>LESS &amp; ENERGY s.r.o. - Čáslav</td>\n",
       "      <td>20.2</td>\n",
       "      <td>dřevní biomasa</td>\n",
       "    </tr>\n",
       "  </tbody>\n",
       "</table>\n",
       "</div>"
      ],
      "text/plain": [
       "                                       nazev  prikon  \\\n",
       "569               Energetické centrum s.r.o.    31.8   \n",
       "1273                Teplárna Loučovice, a.s.    46.5   \n",
       "3818         Mayr-Melnhof Holz Paskov s.r.o.    24.0   \n",
       "6462  Stora Enso Wood Products Planá, s.r.o.    20.9   \n",
       "6805      BIOENERGO - KOMPLEX, s.r.o., Kolín    25.8   \n",
       "6923                    EC Kutná Hora s.r.o.    72.4   \n",
       "6950           LESS & ENERGY s.r.o. - Čáslav    20.2   \n",
       "\n",
       "                              paliva  \n",
       "569   bylinná biomasa (sláma, apod.)  \n",
       "1273                  dřevní biomasa  \n",
       "3818                  dřevní biomasa  \n",
       "6462                  dřevní biomasa  \n",
       "6805  bylinná biomasa (sláma, apod.)  \n",
       "6923  bylinná biomasa (sláma, apod.)  \n",
       "6950                  dřevní biomasa  "
      ]
     },
     "execution_count": 15,
     "metadata": {},
     "output_type": "execute_result"
    }
   ],
   "source": [
    "biomasa_cista = em[(em.prikon >= 20) & (em.paliva.str.contains('bio|dřev', regex=True, na=False) == True) & (em.paliva.str.contains('uhlí|zemní|olej|nafta', regex=True, na=False) == False ) ]\n",
    "print(f'Celkem {biomasa_cista.shape[0]} zařízení (čistá biomasa)')\n",
    "biomasa_cista[['nazev','prikon', 'paliva']]"
   ]
  },
  {
   "cell_type": "code",
   "execution_count": 16,
   "metadata": {},
   "outputs": [
    {
     "data": {
      "text/plain": [
       "count     7.000000\n",
       "mean     34.514286\n",
       "std      18.987226\n",
       "min      20.200000\n",
       "25%      22.450000\n",
       "50%      25.800000\n",
       "75%      39.150000\n",
       "max      72.400000\n",
       "Name: prikon, dtype: float64"
      ]
     },
     "execution_count": 16,
     "metadata": {},
     "output_type": "execute_result"
    }
   ],
   "source": [
    "biomasa_cista.prikon.describe()"
   ]
  },
  {
   "cell_type": "code",
   "execution_count": 17,
   "metadata": {},
   "outputs": [
    {
     "data": {
      "text/plain": [
       "<AxesSubplot:title={'center':'Počty zdrojů spalujících čistou pevnou biomasu (příkon nejméně 20 MW)'}, xlabel='Příkon (MW)', ylabel='Počet'>"
      ]
     },
     "execution_count": 17,
     "metadata": {},
     "output_type": "execute_result"
    },
    {
     "data": {
      "image/png": "[encoded data removed]",
      "text/plain": [
       "<Figure size 432x288 with 1 Axes>"
      ]
     },
     "metadata": {
      "needs_background": "light"
     },
     "output_type": "display_data"
    }
   ],
   "source": [
    "plt.figure()\n",
    "plt.title('Počty zdrojů spalujících čistou pevnou biomasu (příkon nejméně 20 MW)')\n",
    "plt.xlabel('Příkon (MW)')\n",
    "plt.ylabel('Počet')\n",
    "biomasa_cista.prikon.hist()"
   ]
  },
  {
   "cell_type": "code",
   "execution_count": null,
   "metadata": {},
   "outputs": [],
   "source": []
  }
 ],
 "metadata": {
  "kernelspec": {
   "display_name": "Python 3",
   "language": "python",
   "name": "python3"
  },
  "language_info": {
   "codemirror_mode": {
    "name": "ipython",
    "version": 3
   },
   "file_extension": ".py",
   "mimetype": "text/x-python",
   "name": "python",
   "nbconvert_exporter": "python",
   "pygments_lexer": "ipython3",
   "version": "3.7.0"
  }
 },
 "nbformat": 4,
 "nbformat_minor": 2
}
